{
 "cells": [
  {
   "cell_type": "code",
   "execution_count": 1,
   "id": "9966c83d-6d24-4ac5-a4b6-ac24de0febd4",
   "metadata": {
    "tags": []
   },
   "outputs": [
    {
     "data": {
      "text/html": [
       "\n",
       "<table width=\"100%\" summary=\"page for GammaDist {stats}\"><tr><td>GammaDist {stats}</td><td style=\"text-align: right;\">R Documentation</td></tr></table>\n",
       "\n",
       "<h2>The Gamma Distribution</h2>\n",
       "\n",
       "<h3>Description</h3>\n",
       "\n",
       "<p>Density, distribution function, quantile function and random\n",
       "generation for the Gamma distribution with parameters <code>shape</code> and\n",
       "<code>scale</code>.\n",
       "</p>\n",
       "\n",
       "\n",
       "<h3>Usage</h3>\n",
       "\n",
       "<pre>\n",
       "dgamma(x, shape, rate = 1, scale = 1/rate, log = FALSE)\n",
       "pgamma(q, shape, rate = 1, scale = 1/rate, lower.tail = TRUE,\n",
       "       log.p = FALSE)\n",
       "qgamma(p, shape, rate = 1, scale = 1/rate, lower.tail = TRUE,\n",
       "       log.p = FALSE)\n",
       "rgamma(n, shape, rate = 1, scale = 1/rate)\n",
       "</pre>\n",
       "\n",
       "\n",
       "<h3>Arguments</h3>\n",
       "\n",
       "<table summary=\"R argblock\">\n",
       "<tr valign=\"top\"><td><code>x, q</code></td>\n",
       "<td>\n",
       "<p>vector of quantiles.</p>\n",
       "</td></tr>\n",
       "<tr valign=\"top\"><td><code>p</code></td>\n",
       "<td>\n",
       "<p>vector of probabilities.</p>\n",
       "</td></tr>\n",
       "<tr valign=\"top\"><td><code>n</code></td>\n",
       "<td>\n",
       "<p>number of observations. If <code>length(n) &gt; 1</code>, the length\n",
       "is taken to be the number required.</p>\n",
       "</td></tr>\n",
       "<tr valign=\"top\"><td><code>rate</code></td>\n",
       "<td>\n",
       "<p>an alternative way to specify the scale.</p>\n",
       "</td></tr>\n",
       "<tr valign=\"top\"><td><code>shape, scale</code></td>\n",
       "<td>\n",
       "<p>shape and scale parameters.  Must be positive,\n",
       "<code>scale</code> strictly.</p>\n",
       "</td></tr>\n",
       "<tr valign=\"top\"><td><code>log, log.p</code></td>\n",
       "<td>\n",
       "<p>logical; if <code>TRUE</code>, probabilities/densities <i>p</i>\n",
       "are returned as <i>log(p)</i>.</p>\n",
       "</td></tr>\n",
       "<tr valign=\"top\"><td><code>lower.tail</code></td>\n",
       "<td>\n",
       "<p>logical; if TRUE (default), probabilities are\n",
       "<i>P[X &le; x]</i>, otherwise, <i>P[X &gt; x]</i>.</p>\n",
       "</td></tr>\n",
       "</table>\n",
       "\n",
       "\n",
       "<h3>Details</h3>\n",
       "\n",
       "<p>If <code>scale</code> is omitted, it assumes the default value of <code>1</code>.\n",
       "</p>\n",
       "<p>The Gamma distribution with parameters <code>shape</code> <i>= a</i>\n",
       "and <code>scale</code> <i>= s</i> has density\n",
       "</p>\n",
       "<p style=\"text-align: center;\"><i>f(x)= 1/(s^a Gamma(a)) x^(a-1) e^-(x/s)</i></p>\n",
       "\n",
       "<p>for <i>x &ge; 0</i>, <i>a &gt; 0</i> and <i>s &gt; 0</i>.\n",
       "(Here <i>Gamma(a)</i> is the function implemented by <span style=\"font-family: Courier New, Courier; color: #666666;\"><b>R</b></span>'s\n",
       "<code>gamma()</code> and defined in its help.  Note that <i>a = 0</i>\n",
       "corresponds to the trivial distribution with all mass at point 0.)\n",
       "</p>\n",
       "<p>The mean and variance are\n",
       "<i>E(X) = a*s</i> and\n",
       "<i>Var(X) = a*s^2</i>.\n",
       "</p>\n",
       "<p>The cumulative hazard <i>H(t) = - log(1 - F(t))</i>\n",
       "is\n",
       "</p>\n",
       "<pre>-pgamma(t, ..., lower = FALSE, log = TRUE)\n",
       "</pre>\n",
       "<p>Note that for smallish values of <code>shape</code> (and moderate\n",
       "<code>scale</code>) a large parts of the mass of the Gamma distribution is\n",
       "on values of <i>x</i> so near zero that they will be represented as\n",
       "zero in computer arithmetic.  So <code>rgamma</code> may well return values\n",
       "which will be represented as zero.  (This will also happen for very\n",
       "large values of <code>scale</code> since the actual generation is done for\n",
       "<code>scale = 1</code>.)\n",
       "</p>\n",
       "\n",
       "\n",
       "<h3>Value</h3>\n",
       "\n",
       "<p><code>dgamma</code> gives the density,\n",
       "<code>pgamma</code> gives the distribution function,\n",
       "<code>qgamma</code> gives the quantile function, and\n",
       "<code>rgamma</code> generates random deviates.\n",
       "</p>\n",
       "<p>Invalid arguments will result in return value <code>NaN</code>, with a warning.\n",
       "</p>\n",
       "<p>The length of the result is determined by <code>n</code> for\n",
       "<code>rgamma</code>, and is the maximum of the lengths of the\n",
       "numerical arguments for the other functions.\n",
       "</p>\n",
       "<p>The numerical arguments other than <code>n</code> are recycled to the\n",
       "length of the result.  Only the first elements of the logical\n",
       "arguments are used.\n",
       "</p>\n",
       "\n",
       "\n",
       "<h3>Note</h3>\n",
       "\n",
       "<p>The S (Becker <em>et al</em>, 1988) parametrization was via <code>shape</code>\n",
       "and <code>rate</code>: S had no <code>scale</code> parameter. It is an error\n",
       "to supply both <code>scale</code> and <code>rate</code>.\n",
       "</p>\n",
       "<p><code>pgamma</code> is closely related to the incomplete gamma function.  As\n",
       "defined by Abramowitz and Stegun 6.5.1 (and by &lsquo;Numerical\n",
       "Recipes&rsquo;) this is\n",
       "</p>\n",
       "<p style=\"text-align: center;\"><i>P(a,x) = 1/Gamma(a) integral_0^x t^(a-1) exp(-t) dt</i></p>\n",
       "\n",
       "<p><i>P(a, x)</i> is <code>pgamma(x, a)</code>.  Other authors (for example\n",
       "Karl Pearson in his 1922 tables) omit the normalizing factor,\n",
       "defining the incomplete gamma function <i>&gamma;(a,x)</i> as\n",
       "<i>gamma(a,x) =\n",
       "    integral_0^x t^(a-1) exp(-t) dt,</i> i.e., <code>pgamma(x, a) * gamma(a)</code>.\n",
       "Yet other use the &lsquo;upper&rsquo; incomplete gamma function,\n",
       "</p>\n",
       "<p style=\"text-align: center;\"><i>Gamma(a,x) = integral_x^Inf t^(a-1) exp(-t) dt,</i></p>\n",
       "\n",
       "<p>which can be computed by\n",
       "<code>pgamma(x, a, lower = FALSE) * gamma(a)</code>.\n",
       "</p>\n",
       "<p>Note however that <code>pgamma(x, a, ..)</code> currently requires <i>a &gt; 0</i>,\n",
       "whereas the incomplete gamma function is also defined for negative\n",
       "<i>a</i>.  In that case, you can use <code>gamma_inc(a,x)</code> (for\n",
       "<i>&Gamma;(a,x)</i>) from package <a href=\"https://CRAN.R-project.org/package=gsl\"><span class=\"pkg\">gsl</span></a>.\n",
       "</p>\n",
       "<p>See also\n",
       "<a href=\"https://en.wikipedia.org/wiki/Incomplete_gamma_function\">https://en.wikipedia.org/wiki/Incomplete_gamma_function</a>, or\n",
       "<a href=\"https://dlmf.nist.gov/8.2#i\">https://dlmf.nist.gov/8.2#i</a>.\n",
       "</p>\n",
       "\n",
       "\n",
       "<h3>Source</h3>\n",
       "\n",
       "<p><code>dgamma</code> is computed via the Poisson density, using code contributed\n",
       "by Catherine Loader (see <code>dbinom</code>).\n",
       "</p>\n",
       "<p><code>pgamma</code> uses an unpublished (and not otherwise documented)\n",
       "algorithm &lsquo;mainly by Morten Welinder&rsquo;.\n",
       "</p>\n",
       "<p><code>qgamma</code> is based on a C translation of\n",
       "</p>\n",
       "<p>Best, D. J. and D. E. Roberts (1975).\n",
       "Algorithm AS91. Percentage points of the chi-squared distribution.\n",
       "<em>Applied Statistics</em>,  <b>24</b>, 385&ndash;388.\n",
       "</p>\n",
       "<p>plus a final Newton step to improve the approximation.\n",
       "</p>\n",
       "<p><code>rgamma</code> for <code>shape &gt;= 1</code> uses\n",
       "</p>\n",
       "<p>Ahrens, J. H. and Dieter, U. (1982).\n",
       "Generating gamma variates by a modified rejection technique.\n",
       "<em>Communications of the ACM</em>, <b>25</b>, 47&ndash;54,\n",
       "</p>\n",
       "<p>and for <code>0 &lt; shape &lt; 1</code> uses\n",
       "</p>\n",
       "<p>Ahrens, J. H. and Dieter, U. (1974).\n",
       "Computer methods for sampling from gamma, beta, Poisson and binomial\n",
       "distributions. <em>Computing</em>, <b>12</b>, 223&ndash;246.\n",
       "</p>\n",
       "\n",
       "\n",
       "<h3>References</h3>\n",
       "\n",
       "<p>Becker, R. A., Chambers, J. M. and Wilks, A. R. (1988).\n",
       "<em>The New S Language</em>.\n",
       "Wadsworth &amp; Brooks/Cole.\n",
       "</p>\n",
       "<p>Shea, B. L. (1988).\n",
       "Algorithm AS 239: Chi-squared and incomplete Gamma integral,\n",
       "<em>Applied Statistics (JRSS C)</em>, <b>37</b>, 466&ndash;473.\n",
       "doi: <a href=\"https://doi.org/10.2307/2347328\">10.2307/2347328</a>.\n",
       "</p>\n",
       "<p>Abramowitz, M. and Stegun, I. A. (1972)\n",
       "<em>Handbook of Mathematical Functions.</em> New York: Dover.\n",
       "Chapter 6: Gamma and Related Functions.\n",
       "</p>\n",
       "<p>NIST Digital Library of Mathematical Functions.\n",
       "<a href=\"https://dlmf.nist.gov/\">https://dlmf.nist.gov/</a>, section 8.2.\n",
       "</p>\n",
       "\n",
       "\n",
       "<h3>See Also</h3>\n",
       "\n",
       "<p><code>gamma</code> for the gamma function.\n",
       "</p>\n",
       "<p>Distributions for other standard distributions, including\n",
       "<code>dbeta</code> for the Beta distribution and <code>dchisq</code>\n",
       "for the chi-squared distribution which is a special case of the Gamma\n",
       "distribution.\n",
       "</p>\n",
       "\n",
       "\n",
       "<h3>Examples</h3>\n",
       "\n",
       "<pre>\n",
       "-log(dgamma(1:4, shape = 1))\n",
       "p &lt;- (1:9)/10\n",
       "pgamma(qgamma(p, shape = 2), shape = 2)\n",
       "1 - 1/exp(qgamma(p, shape = 1))\n",
       "\n",
       "# even for shape = 0.001 about half the mass is on numbers\n",
       "# that cannot be represented accurately (and most of those as zero)\n",
       "pgamma(.Machine$double.xmin, 0.001)\n",
       "pgamma(5e-324, 0.001)  # on most machines 5e-324 is the smallest\n",
       "                       # representable non-zero number\n",
       "table(rgamma(1e4, 0.001) == 0)/1e4\n",
       "</pre>\n",
       "\n",
       "<hr /><div style=\"text-align: center;\">[Package <em>stats</em> version 4.1.3 ]</div>"
      ],
      "text/latex": [
       "\\inputencoding{utf8}\n",
       "\\HeaderA{GammaDist}{The Gamma Distribution}{GammaDist}\n",
       "\\aliasA{dgamma}{GammaDist}{dgamma}\n",
       "\\aliasA{pgamma}{GammaDist}{pgamma}\n",
       "\\aliasA{qgamma}{GammaDist}{qgamma}\n",
       "\\aliasA{rgamma}{GammaDist}{rgamma}\n",
       "\\keyword{incomplete gamma function}{GammaDist}\n",
       "\\keyword{distribution}{GammaDist}\n",
       "%\n",
       "\\begin{Description}\\relax\n",
       "Density, distribution function, quantile function and random\n",
       "generation for the Gamma distribution with parameters \\code{shape} and\n",
       "\\code{scale}.\n",
       "\\end{Description}\n",
       "%\n",
       "\\begin{Usage}\n",
       "\\begin{verbatim}\n",
       "dgamma(x, shape, rate = 1, scale = 1/rate, log = FALSE)\n",
       "pgamma(q, shape, rate = 1, scale = 1/rate, lower.tail = TRUE,\n",
       "       log.p = FALSE)\n",
       "qgamma(p, shape, rate = 1, scale = 1/rate, lower.tail = TRUE,\n",
       "       log.p = FALSE)\n",
       "rgamma(n, shape, rate = 1, scale = 1/rate)\n",
       "\\end{verbatim}\n",
       "\\end{Usage}\n",
       "%\n",
       "\\begin{Arguments}\n",
       "\\begin{ldescription}\n",
       "\\item[\\code{x, q}] vector of quantiles.\n",
       "\\item[\\code{p}] vector of probabilities.\n",
       "\\item[\\code{n}] number of observations. If \\code{length(n) > 1}, the length\n",
       "is taken to be the number required.\n",
       "\\item[\\code{rate}] an alternative way to specify the scale.\n",
       "\\item[\\code{shape, scale}] shape and scale parameters.  Must be positive,\n",
       "\\code{scale} strictly.\n",
       "\\item[\\code{log, log.p}] logical; if \\code{TRUE}, probabilities/densities \\eqn{p}{}\n",
       "are returned as \\eqn{log(p)}{}.\n",
       "\\item[\\code{lower.tail}] logical; if TRUE (default), probabilities are\n",
       "\\eqn{P[X \\le x]}{}, otherwise, \\eqn{P[X > x]}{}.\n",
       "\\end{ldescription}\n",
       "\\end{Arguments}\n",
       "%\n",
       "\\begin{Details}\\relax\n",
       "If \\code{scale} is omitted, it assumes the default value of \\code{1}.\n",
       "\n",
       "The Gamma distribution with parameters \\code{shape} \\eqn{=\\alpha}{}\n",
       "and \\code{scale} \\eqn{=\\sigma}{} has density\n",
       "\\deqn{\n",
       "    f(x)= \\frac{1}{{\\sigma}^{\\alpha}\\Gamma(\\alpha)} {x}^{\\alpha-1} e^{-x/\\sigma}%\n",
       "  }{}\n",
       "for \\eqn{x \\ge 0}{}, \\eqn{\\alpha > 0}{} and \\eqn{\\sigma > 0}{}.\n",
       "(Here \\eqn{\\Gamma(\\alpha)}{} is the function implemented by \\R{}'s\n",
       "\\code{\\LinkA{gamma}{gamma}()} and defined in its help.  Note that \\eqn{a = 0}{}\n",
       "corresponds to the trivial distribution with all mass at point 0.)\n",
       "\n",
       "The mean and variance are\n",
       "\\eqn{E(X) = \\alpha\\sigma}{} and\n",
       "\\eqn{Var(X) = \\alpha\\sigma^2}{}.\n",
       "\n",
       "The cumulative hazard \\eqn{H(t) = - \\log(1 - F(t))}{}\n",
       "is\n",
       "\\begin{alltt}-pgamma(t, ..., lower = FALSE, log = TRUE)\n",
       "\\end{alltt}\n",
       "\n",
       "\n",
       "Note that for smallish values of \\code{shape} (and moderate\n",
       "\\code{scale}) a large parts of the mass of the Gamma distribution is\n",
       "on values of \\eqn{x}{} so near zero that they will be represented as\n",
       "zero in computer arithmetic.  So \\code{rgamma} may well return values\n",
       "which will be represented as zero.  (This will also happen for very\n",
       "large values of \\code{scale} since the actual generation is done for\n",
       "\\code{scale = 1}.)\n",
       "\\end{Details}\n",
       "%\n",
       "\\begin{Value}\n",
       "\\code{dgamma} gives the density,\n",
       "\\code{pgamma} gives the distribution function,\n",
       "\\code{qgamma} gives the quantile function, and\n",
       "\\code{rgamma} generates random deviates.\n",
       "\n",
       "Invalid arguments will result in return value \\code{NaN}, with a warning.\n",
       "\n",
       "The length of the result is determined by \\code{n} for\n",
       "\\code{rgamma}, and is the maximum of the lengths of the\n",
       "numerical arguments for the other functions.\n",
       "\n",
       "The numerical arguments other than \\code{n} are recycled to the\n",
       "length of the result.  Only the first elements of the logical\n",
       "arguments are used.\n",
       "\\end{Value}\n",
       "%\n",
       "\\begin{Note}\\relax\n",
       "The S (Becker \\emph{et al}, 1988) parametrization was via \\code{shape}\n",
       "and \\code{rate}: S had no \\code{scale} parameter. It is an error\n",
       "to supply both \\code{scale} and \\code{rate}.\n",
       "\n",
       "\\code{pgamma} is closely related to the incomplete gamma function.  As\n",
       "defined by Abramowitz and Stegun 6.5.1 (and by `Numerical\n",
       "Recipes') this is\n",
       "\\deqn{P(a,x) = \\frac{1}{\\Gamma(a)} \\int_0^x t^{a-1} e^{-t} dt}{}\n",
       "\\eqn{P(a, x)}{} is \\code{pgamma(x, a)}.  Other authors (for example\n",
       "Karl Pearson in his 1922 tables) omit the normalizing factor,\n",
       "defining the incomplete gamma function \\eqn{\\gamma(a,x)}{} as\n",
       "\\eqn{\\gamma(a,x) = \\int_0^x t^{a-1} e^{-t} dt,}{} i.e., \\code{pgamma(x, a) * gamma(a)}.\n",
       "Yet other use the `upper' incomplete gamma function,\n",
       "\\deqn{\\Gamma(a,x) = \\int_x^\\infty t^{a-1} e^{-t} dt,}{}\n",
       "which can be computed by\n",
       "\\code{pgamma(x, a, lower = FALSE) * gamma(a)}.\n",
       "\n",
       "Note however that \\code{pgamma(x, a, ..)} currently requires \\eqn{a > 0}{},\n",
       "whereas the incomplete gamma function is also defined for negative\n",
       "\\eqn{a}{}.  In that case, you can use \\code{gamma\\_inc(a,x)} (for\n",
       "\\eqn{\\Gamma(a,x)}{}) from package \\Rhref{https://CRAN.R-project.org/package=gsl}{\\pkg{gsl}}.\n",
       "\n",
       "See also\n",
       "\\url{https://en.wikipedia.org/wiki/Incomplete_gamma_function}, or\n",
       "\\url{https://dlmf.nist.gov/8.2#i}.\n",
       "\\end{Note}\n",
       "%\n",
       "\\begin{Source}\\relax\n",
       "\\code{dgamma} is computed via the Poisson density, using code contributed\n",
       "by Catherine Loader (see \\code{\\LinkA{dbinom}{dbinom}}).\n",
       "\n",
       "\\code{pgamma} uses an unpublished (and not otherwise documented)\n",
       "algorithm `mainly by Morten Welinder'.\n",
       "\n",
       "\\code{qgamma} is based on a C translation of\n",
       "\n",
       "Best, D. J. and D. E. Roberts (1975).\n",
       "Algorithm AS91. Percentage points of the chi-squared distribution.\n",
       "\\emph{Applied Statistics},  \\bold{24}, 385--388.\n",
       "\n",
       "plus a final Newton step to improve the approximation.\n",
       "\n",
       "\\code{rgamma} for \\code{shape >= 1} uses\n",
       "\n",
       "Ahrens, J. H. and Dieter, U. (1982).\n",
       "Generating gamma variates by a modified rejection technique.\n",
       "\\emph{Communications of the ACM}, \\bold{25}, 47--54,\n",
       "\n",
       "and for \\code{0 < shape < 1} uses\n",
       "\n",
       "Ahrens, J. H. and Dieter, U. (1974).\n",
       "Computer methods for sampling from gamma, beta, Poisson and binomial\n",
       "distributions. \\emph{Computing}, \\bold{12}, 223--246.\n",
       "\\end{Source}\n",
       "%\n",
       "\\begin{References}\\relax\n",
       "Becker, R. A., Chambers, J. M. and Wilks, A. R. (1988).\n",
       "\\emph{The New S Language}.\n",
       "Wadsworth \\& Brooks/Cole.\n",
       "\n",
       "Shea, B. L. (1988).\n",
       "Algorithm AS 239: Chi-squared and incomplete Gamma integral,\n",
       "\\emph{Applied Statistics (JRSS C)}, \\bold{37}, 466--473.\n",
       "doi:\\nobreakspace{}\\Rhref{https://doi.org/10.2307/2347328}{10.2307\\slash{}2347328}.\n",
       "\n",
       "Abramowitz, M. and Stegun, I. A. (1972)\n",
       "\\emph{Handbook of Mathematical Functions.} New York: Dover.\n",
       "Chapter 6: Gamma and Related Functions.\n",
       "\n",
       "NIST Digital Library of Mathematical Functions.\n",
       "\\url{https://dlmf.nist.gov/}, section 8.2.\n",
       "\\end{References}\n",
       "%\n",
       "\\begin{SeeAlso}\\relax\n",
       "\\code{\\LinkA{gamma}{gamma}} for the gamma function.\n",
       "\n",
       "\\LinkA{Distributions}{Distributions} for other standard distributions, including\n",
       "\\code{\\LinkA{dbeta}{dbeta}} for the Beta distribution and \\code{\\LinkA{dchisq}{dchisq}}\n",
       "for the chi-squared distribution which is a special case of the Gamma\n",
       "distribution.\n",
       "\\end{SeeAlso}\n",
       "%\n",
       "\\begin{Examples}\n",
       "\\begin{ExampleCode}\n",
       "-log(dgamma(1:4, shape = 1))\n",
       "p <- (1:9)/10\n",
       "pgamma(qgamma(p, shape = 2), shape = 2)\n",
       "1 - 1/exp(qgamma(p, shape = 1))\n",
       "\n",
       "# even for shape = 0.001 about half the mass is on numbers\n",
       "# that cannot be represented accurately (and most of those as zero)\n",
       "pgamma(.Machine$double.xmin, 0.001)\n",
       "pgamma(5e-324, 0.001)  # on most machines 5e-324 is the smallest\n",
       "                       # representable non-zero number\n",
       "table(rgamma(1e4, 0.001) == 0)/1e4\n",
       "\\end{ExampleCode}\n",
       "\\end{Examples}"
      ],
      "text/plain": [
       "GammaDist                package:stats                 R Documentation\n",
       "\n",
       "_\bT_\bh_\be _\bG_\ba_\bm_\bm_\ba _\bD_\bi_\bs_\bt_\br_\bi_\bb_\bu_\bt_\bi_\bo_\bn\n",
       "\n",
       "_\bD_\be_\bs_\bc_\br_\bi_\bp_\bt_\bi_\bo_\bn:\n",
       "\n",
       "     Density, distribution function, quantile function and random\n",
       "     generation for the Gamma distribution with parameters ‘shape’ and\n",
       "     ‘scale’.\n",
       "\n",
       "_\bU_\bs_\ba_\bg_\be:\n",
       "\n",
       "     dgamma(x, shape, rate = 1, scale = 1/rate, log = FALSE)\n",
       "     pgamma(q, shape, rate = 1, scale = 1/rate, lower.tail = TRUE,\n",
       "            log.p = FALSE)\n",
       "     qgamma(p, shape, rate = 1, scale = 1/rate, lower.tail = TRUE,\n",
       "            log.p = FALSE)\n",
       "     rgamma(n, shape, rate = 1, scale = 1/rate)\n",
       "     \n",
       "_\bA_\br_\bg_\bu_\bm_\be_\bn_\bt_\bs:\n",
       "\n",
       "    x, q: vector of quantiles.\n",
       "\n",
       "       p: vector of probabilities.\n",
       "\n",
       "       n: number of observations. If ‘length(n) > 1’, the length is\n",
       "          taken to be the number required.\n",
       "\n",
       "    rate: an alternative way to specify the scale.\n",
       "\n",
       "shape, scale: shape and scale parameters.  Must be positive, ‘scale’\n",
       "          strictly.\n",
       "\n",
       "log, log.p: logical; if ‘TRUE’, probabilities/densities p are returned\n",
       "          as log(p).\n",
       "\n",
       "lower.tail: logical; if TRUE (default), probabilities are P[X <= x],\n",
       "          otherwise, P[X > x].\n",
       "\n",
       "_\bD_\be_\bt_\ba_\bi_\bl_\bs:\n",
       "\n",
       "     If ‘scale’ is omitted, it assumes the default value of ‘1’.\n",
       "\n",
       "     The Gamma distribution with parameters ‘shape’ = a and ‘scale’ = s\n",
       "     has density\n",
       "\n",
       "                   f(x)= 1/(s^a Gamma(a)) x^(a-1) e^-(x/s)              \n",
       "     \n",
       "     for x >= 0, a > 0 and s > 0.  (Here Gamma(a) is the function\n",
       "     implemented by R's ‘gamma()’ and defined in its help.  Note that a\n",
       "     = 0 corresponds to the trivial distribution with all mass at point\n",
       "     0.)\n",
       "\n",
       "     The mean and variance are E(X) = a*s and Var(X) = a*s^2.\n",
       "\n",
       "     The cumulative hazard H(t) = - log(1 - F(t)) is\n",
       "\n",
       "     -pgamma(t, ..., lower = FALSE, log = TRUE)\n",
       "     \n",
       "     Note that for smallish values of ‘shape’ (and moderate ‘scale’) a\n",
       "     large parts of the mass of the Gamma distribution is on values of\n",
       "     x so near zero that they will be represented as zero in computer\n",
       "     arithmetic.  So ‘rgamma’ may well return values which will be\n",
       "     represented as zero.  (This will also happen for very large values\n",
       "     of ‘scale’ since the actual generation is done for ‘scale = 1’.)\n",
       "\n",
       "_\bV_\ba_\bl_\bu_\be:\n",
       "\n",
       "     ‘dgamma’ gives the density, ‘pgamma’ gives the distribution\n",
       "     function, ‘qgamma’ gives the quantile function, and ‘rgamma’\n",
       "     generates random deviates.\n",
       "\n",
       "     Invalid arguments will result in return value ‘NaN’, with a\n",
       "     warning.\n",
       "\n",
       "     The length of the result is determined by ‘n’ for ‘rgamma’, and is\n",
       "     the maximum of the lengths of the numerical arguments for the\n",
       "     other functions.\n",
       "\n",
       "     The numerical arguments other than ‘n’ are recycled to the length\n",
       "     of the result.  Only the first elements of the logical arguments\n",
       "     are used.\n",
       "\n",
       "_\bN_\bo_\bt_\be:\n",
       "\n",
       "     The S (Becker _et al_, 1988) parametrization was via ‘shape’ and\n",
       "     ‘rate’: S had no ‘scale’ parameter. It is an error to supply both\n",
       "     ‘scale’ and ‘rate’.\n",
       "\n",
       "     ‘pgamma’ is closely related to the incomplete gamma function.  As\n",
       "     defined by Abramowitz and Stegun 6.5.1 (and by ‘Numerical\n",
       "     Recipes’) this is\n",
       "\n",
       "             P(a,x) = 1/Gamma(a) integral_0^x t^(a-1) exp(-t) dt        \n",
       "     \n",
       "     P(a, x) is ‘pgamma(x, a)’.  Other authors (for example Karl\n",
       "     Pearson in his 1922 tables) omit the normalizing factor, defining\n",
       "     the incomplete gamma function gamma(a,x) as gamma(a,x) =\n",
       "     integral_0^x t^(a-1) exp(-t) dt, i.e., ‘pgamma(x, a) * gamma(a)’.\n",
       "     Yet other use the ‘upper’ incomplete gamma function,\n",
       "\n",
       "               Gamma(a,x) = integral_x^Inf t^(a-1) exp(-t) dt,          \n",
       "     \n",
       "     which can be computed by ‘pgamma(x, a, lower = FALSE) * gamma(a)’.\n",
       "\n",
       "     Note however that ‘pgamma(x, a, ..)’ currently requires a > 0,\n",
       "     whereas the incomplete gamma function is also defined for negative\n",
       "     a.  In that case, you can use ‘gamma_inc(a,x)’ (for Gamma(a,x))\n",
       "     from package ‘gsl’.\n",
       "\n",
       "     See also <URL:\n",
       "     https://en.wikipedia.org/wiki/Incomplete_gamma_function>, or <URL:\n",
       "     https://dlmf.nist.gov/8.2#i>.\n",
       "\n",
       "_\bS_\bo_\bu_\br_\bc_\be:\n",
       "\n",
       "     ‘dgamma’ is computed via the Poisson density, using code\n",
       "     contributed by Catherine Loader (see ‘dbinom’).\n",
       "\n",
       "     ‘pgamma’ uses an unpublished (and not otherwise documented)\n",
       "     algorithm ‘mainly by Morten Welinder’.\n",
       "\n",
       "     ‘qgamma’ is based on a C translation of\n",
       "\n",
       "     Best, D. J. and D. E. Roberts (1975).  Algorithm AS91. Percentage\n",
       "     points of the chi-squared distribution.  _Applied Statistics_,\n",
       "     *24*, 385-388.\n",
       "\n",
       "     plus a final Newton step to improve the approximation.\n",
       "\n",
       "     ‘rgamma’ for ‘shape >= 1’ uses\n",
       "\n",
       "     Ahrens, J. H. and Dieter, U. (1982).  Generating gamma variates by\n",
       "     a modified rejection technique.  _Communications of the ACM_,\n",
       "     *25*, 47-54,\n",
       "\n",
       "     and for ‘0 < shape < 1’ uses\n",
       "\n",
       "     Ahrens, J. H. and Dieter, U. (1974).  Computer methods for\n",
       "     sampling from gamma, beta, Poisson and binomial distributions.\n",
       "     _Computing_, *12*, 223-246.\n",
       "\n",
       "_\bR_\be_\bf_\be_\br_\be_\bn_\bc_\be_\bs:\n",
       "\n",
       "     Becker, R. A., Chambers, J. M. and Wilks, A. R. (1988).  _The New\n",
       "     S Language_.  Wadsworth & Brooks/Cole.\n",
       "\n",
       "     Shea, B. L. (1988).  Algorithm AS 239: Chi-squared and incomplete\n",
       "     Gamma integral, _Applied Statistics (JRSS C)_, *37*, 466-473.\n",
       "     doi: 10.2307/2347328 (URL: https://doi.org/10.2307/2347328).\n",
       "\n",
       "     Abramowitz, M. and Stegun, I. A. (1972) _Handbook of Mathematical\n",
       "     Functions._ New York: Dover.  Chapter 6: Gamma and Related\n",
       "     Functions.\n",
       "\n",
       "     NIST Digital Library of Mathematical Functions.  <URL:\n",
       "     https://dlmf.nist.gov/>, section 8.2.\n",
       "\n",
       "_\bS_\be_\be _\bA_\bl_\bs_\bo:\n",
       "\n",
       "     ‘gamma’ for the gamma function.\n",
       "\n",
       "     Distributions for other standard distributions, including ‘dbeta’\n",
       "     for the Beta distribution and ‘dchisq’ for the chi-squared\n",
       "     distribution which is a special case of the Gamma distribution.\n",
       "\n",
       "_\bE_\bx_\ba_\bm_\bp_\bl_\be_\bs:\n",
       "\n",
       "     -log(dgamma(1:4, shape = 1))\n",
       "     p <- (1:9)/10\n",
       "     pgamma(qgamma(p, shape = 2), shape = 2)\n",
       "     1 - 1/exp(qgamma(p, shape = 1))\n",
       "     \n",
       "     # even for shape = 0.001 about half the mass is on numbers\n",
       "     # that cannot be represented accurately (and most of those as zero)\n",
       "     pgamma(.Machine$double.xmin, 0.001)\n",
       "     pgamma(5e-324, 0.001)  # on most machines 5e-324 is the smallest\n",
       "                            # representable non-zero number\n",
       "     table(rgamma(1e4, 0.001) == 0)/1e4\n",
       "     "
      ]
     },
     "metadata": {},
     "output_type": "display_data"
    }
   ],
   "source": [
    "help(\"dgamma\")"
   ]
  },
  {
   "cell_type": "code",
   "execution_count": 2,
   "id": "806b697a-fb4e-4a27-a06c-1a43ebe7724b",
   "metadata": {
    "tags": []
   },
   "outputs": [
    {
     "data": {
      "text/html": [
       "\n",
       "<table width=\"100%\" summary=\"page for Chisquare {stats}\"><tr><td>Chisquare {stats}</td><td style=\"text-align: right;\">R Documentation</td></tr></table>\n",
       "\n",
       "<h2>The (non-central) Chi-Squared Distribution</h2>\n",
       "\n",
       "<h3>Description</h3>\n",
       "\n",
       "<p>Density, distribution function, quantile function and random\n",
       "generation for the chi-squared (<i>chi^2</i>) distribution with\n",
       "<code>df</code> degrees of freedom and optional non-centrality parameter\n",
       "<code>ncp</code>.\n",
       "</p>\n",
       "\n",
       "\n",
       "<h3>Usage</h3>\n",
       "\n",
       "<pre>\n",
       "dchisq(x, df, ncp = 0, log = FALSE)\n",
       "pchisq(q, df, ncp = 0, lower.tail = TRUE, log.p = FALSE)\n",
       "qchisq(p, df, ncp = 0, lower.tail = TRUE, log.p = FALSE)\n",
       "rchisq(n, df, ncp = 0)\n",
       "</pre>\n",
       "\n",
       "\n",
       "<h3>Arguments</h3>\n",
       "\n",
       "<table summary=\"R argblock\">\n",
       "<tr valign=\"top\"><td><code>x, q</code></td>\n",
       "<td>\n",
       "<p>vector of quantiles.</p>\n",
       "</td></tr>\n",
       "<tr valign=\"top\"><td><code>p</code></td>\n",
       "<td>\n",
       "<p>vector of probabilities.</p>\n",
       "</td></tr>\n",
       "<tr valign=\"top\"><td><code>n</code></td>\n",
       "<td>\n",
       "<p>number of observations. If <code>length(n) &gt; 1</code>, the length\n",
       "is taken to be the number required.</p>\n",
       "</td></tr>\n",
       "<tr valign=\"top\"><td><code>df</code></td>\n",
       "<td>\n",
       "<p>degrees of freedom (non-negative, but can be non-integer).</p>\n",
       "</td></tr>\n",
       "<tr valign=\"top\"><td><code>ncp</code></td>\n",
       "<td>\n",
       "<p>non-centrality parameter (non-negative).</p>\n",
       "</td></tr>\n",
       "<tr valign=\"top\"><td><code>log, log.p</code></td>\n",
       "<td>\n",
       "<p>logical; if TRUE, probabilities p are given as log(p).</p>\n",
       "</td></tr>\n",
       "<tr valign=\"top\"><td><code>lower.tail</code></td>\n",
       "<td>\n",
       "<p>logical; if TRUE (default), probabilities are\n",
       "<i>P[X &le; x]</i>, otherwise, <i>P[X &gt; x]</i>.</p>\n",
       "</td></tr>\n",
       "</table>\n",
       "\n",
       "\n",
       "<h3>Details</h3>\n",
       "\n",
       "<p>The chi-squared distribution with <code>df</code><i>= n &ge; 0</i>\n",
       "degrees of freedom has density\n",
       "</p>\n",
       "<p style=\"text-align: center;\"><i>f_n(x) = 1 / (2^(n/2) &Gamma;(n/2))  x^(n/2-1) e^(-x/2)</i></p>\n",
       "\n",
       "<p>for <i>x &gt; 0</i>, where <i>f_0(x) := \\lim_{n \\to 0} f_n(x) =\n",
       "  &delta;_0(x)</i>, a point mass at zero, is not a density function proper, but\n",
       "a &ldquo;<i>&delta;</i> distribution&rdquo;.<br />\n",
       "The mean and variance are <i>n</i> and <i>2n</i>.\n",
       "</p>\n",
       "<p>The non-central chi-squared distribution with <code>df</code><i>= n</i>\n",
       "degrees of freedom and non-centrality parameter <code>ncp</code>\n",
       "<i>= &lambda;</i> has density\n",
       "</p>\n",
       "<p style=\"text-align: center;\"><i>f(x) = exp(-&lambda;/2) SUM_{r=0}^&infin; ((&lambda;/2)^r / r!) dchisq(x, df + 2r)\n",
       "  </i></p>\n",
       "\n",
       "<p>for <i>x &ge; 0</i>.  For integer <i>n</i>, this is the distribution of\n",
       "the sum of squares of <i>n</i> normals each with variance one,\n",
       "<i>&lambda;</i> being the sum of squares of the normal means; further,\n",
       "<br />\n",
       "<i>E(X) = n + &lambda;</i>, <i>Var(X) = 2(n + 2*&lambda;)</i>, and\n",
       "<i>E((X - E(X))^3) = 8(n + 3*&lambda;)</i>.\n",
       "</p>\n",
       "<p>Note that the degrees of freedom <code>df</code><i>= n</i>, can be\n",
       "non-integer, and also <i>n = 0</i> which is relevant for\n",
       "non-centrality <i>&lambda; &gt; 0</i>,\n",
       "see Johnson <em>et al</em> (1995, chapter 29).\n",
       "In that (noncentral, zero df) case, the distribution is a mixture of a\n",
       "point mass at <i>x = 0</i> (of size <code>pchisq(0, df=0, ncp=ncp)</code>) and\n",
       "a continuous part, and <code>dchisq()</code> is <em>not</em> a density with\n",
       "respect to that mixture measure but rather the limit of the density\n",
       "for <i>df -&gt; 0</i>.\n",
       "</p>\n",
       "<p>Note that <code>ncp</code> values larger than about 1e5 (and even smaller)  may give inaccurate\n",
       "results with many warnings for <code>pchisq</code> and <code>qchisq</code>.\n",
       "</p>\n",
       "\n",
       "\n",
       "<h3>Value</h3>\n",
       "\n",
       "<p><code>dchisq</code> gives the density, <code>pchisq</code> gives the distribution\n",
       "function, <code>qchisq</code> gives the quantile function, and <code>rchisq</code>\n",
       "generates random deviates.\n",
       "</p>\n",
       "<p>Invalid arguments will result in return value <code>NaN</code>, with a warning.\n",
       "</p>\n",
       "<p>The length of the result is determined by <code>n</code> for\n",
       "<code>rchisq</code>, and is the maximum of the lengths of the\n",
       "numerical arguments for the other functions.\n",
       "</p>\n",
       "<p>The numerical arguments other than <code>n</code> are recycled to the\n",
       "length of the result.  Only the first elements of the logical\n",
       "arguments are used.\n",
       "</p>\n",
       "\n",
       "\n",
       "<h3>Note</h3>\n",
       "\n",
       "<p>Supplying <code>ncp = 0</code> uses the algorithm for the non-central\n",
       "distribution, which is not the same algorithm used if <code>ncp</code> is\n",
       "omitted.  This is to give consistent behaviour in extreme cases with\n",
       "values of <code>ncp</code> very near zero.\n",
       "</p>\n",
       "<p>The code for non-zero <code>ncp</code> is principally intended to be used\n",
       "for moderate values of <code>ncp</code>: it will not be highly accurate,\n",
       "especially in the tails, for large values.\n",
       "</p>\n",
       "\n",
       "\n",
       "<h3>Source</h3>\n",
       "\n",
       "<p>The central cases are computed via the gamma distribution.\n",
       "</p>\n",
       "<p>The non-central <code>dchisq</code> and <code>rchisq</code> are computed as a\n",
       "Poisson mixture of central chi-squares (Johnson <em>et al</em>, 1995, p.436).\n",
       "</p>\n",
       "<p>The non-central <code>pchisq</code> is for <code>ncp &lt; 80</code> computed from\n",
       "the Poisson mixture of central chi-squares and for larger <code>ncp</code>\n",
       "<em>via</em> a C translation of\n",
       "</p>\n",
       "<p>Ding, C. G. (1992)\n",
       "Algorithm AS275: Computing the non-central chi-squared\n",
       "distribution function. <em>Appl.Statist.</em>, <b>41</b> 478&ndash;482.\n",
       "</p>\n",
       "<p>which computes the lower tail only (so the upper tail suffers from\n",
       "cancellation and a warning will be given when this is likely to be\n",
       "significant).\n",
       "</p>\n",
       "<p>The non-central <code>qchisq</code> is based on inversion of <code>pchisq</code>.\n",
       "</p>\n",
       "\n",
       "\n",
       "<h3>References</h3>\n",
       "\n",
       "<p>Becker, R. A., Chambers, J. M. and Wilks, A. R. (1988)\n",
       "<em>The New S Language</em>.\n",
       "Wadsworth &amp; Brooks/Cole.\n",
       "</p>\n",
       "<p>Johnson, N. L., Kotz, S. and Balakrishnan, N. (1995)\n",
       "<em>Continuous Univariate Distributions</em>, chapters 18 (volume 1)\n",
       "and 29 (volume 2). Wiley, New York.\n",
       "</p>\n",
       "\n",
       "\n",
       "<h3>See Also</h3>\n",
       "\n",
       "<p>Distributions for other standard distributions.\n",
       "</p>\n",
       "<p>A central chi-squared distribution with <i>n</i> degrees of freedom\n",
       "is the same as a Gamma distribution with <code>shape</code> <i>a = n/2</i> and <code>scale</code> <i>s = 2</i>.  Hence, see\n",
       "<code>dgamma</code> for the Gamma distribution.\n",
       "</p>\n",
       "<p>The central chi-squared distribution with 2 d.f. is identical to the\n",
       "exponential distribution with rate 1/2: <i>&chi;^2_2 = Exp(1/2)</i>, see\n",
       "<code>dexp</code>.\n",
       "</p>\n",
       "\n",
       "\n",
       "<h3>Examples</h3>\n",
       "\n",
       "<pre>\n",
       "require(graphics)\n",
       "\n",
       "dchisq(1, df = 1:3)\n",
       "pchisq(1, df =  3)\n",
       "pchisq(1, df =  3, ncp = 0:4)  # includes the above\n",
       "\n",
       "x &lt;- 1:10\n",
       "## Chi-squared(df = 2) is a special exponential distribution\n",
       "all.equal(dchisq(x, df = 2), dexp(x, 1/2))\n",
       "all.equal(pchisq(x, df = 2), pexp(x, 1/2))\n",
       "\n",
       "## non-central RNG -- df = 0 with ncp &gt; 0:  Z0 has point mass at 0!\n",
       "Z0 &lt;- rchisq(100, df = 0, ncp = 2.)\n",
       "graphics::stem(Z0)\n",
       "\n",
       "## visual testing\n",
       "## do P-P plots for 1000 points at various degrees of freedom\n",
       "L &lt;- 1.2; n &lt;- 1000; pp &lt;- ppoints(n)\n",
       "op &lt;- par(mfrow = c(3,3), mar = c(3,3,1,1)+.1, mgp = c(1.5,.6,0),\n",
       "          oma = c(0,0,3,0))\n",
       "for(df in 2^(4*rnorm(9))) {\n",
       "  plot(pp, sort(pchisq(rr &lt;- rchisq(n, df = df, ncp = L), df = df, ncp = L)),\n",
       "       ylab = \"pchisq(rchisq(.),.)\", pch = \".\")\n",
       "  mtext(paste(\"df = \", formatC(df, digits = 4)), line =  -2, adj = 0.05)\n",
       "  abline(0, 1, col = 2)\n",
       "}\n",
       "mtext(expression(\"P-P plots : Noncentral  \"*\n",
       "                 chi^2 *\"(n=1000, df=X, ncp= 1.2)\"),\n",
       "      cex = 1.5, font = 2, outer = TRUE)\n",
       "par(op)\n",
       "\n",
       "## \"analytical\" test\n",
       "lam &lt;- seq(0, 100, by = .25)\n",
       "p00 &lt;- pchisq(0,      df = 0, ncp = lam)\n",
       "p.0 &lt;- pchisq(1e-300, df = 0, ncp = lam)\n",
       "stopifnot(all.equal(p00, exp(-lam/2)),\n",
       "          all.equal(p.0, exp(-lam/2)))\n",
       "</pre>\n",
       "\n",
       "<hr /><div style=\"text-align: center;\">[Package <em>stats</em> version 4.1.3 ]</div>"
      ],
      "text/latex": [
       "\\inputencoding{utf8}\n",
       "\\HeaderA{Chisquare}{The (non-central) Chi-Squared Distribution}{Chisquare}\n",
       "\\aliasA{dchisq}{Chisquare}{dchisq}\n",
       "\\aliasA{pchisq}{Chisquare}{pchisq}\n",
       "\\aliasA{qchisq}{Chisquare}{qchisq}\n",
       "\\aliasA{rchisq}{Chisquare}{rchisq}\n",
       "\\keyword{distribution}{Chisquare}\n",
       "%\n",
       "\\begin{Description}\\relax\n",
       "Density, distribution function, quantile function and random\n",
       "generation for the chi-squared (\\eqn{\\chi^2}{}) distribution with\n",
       "\\code{df} degrees of freedom and optional non-centrality parameter\n",
       "\\code{ncp}.\n",
       "\\end{Description}\n",
       "%\n",
       "\\begin{Usage}\n",
       "\\begin{verbatim}\n",
       "dchisq(x, df, ncp = 0, log = FALSE)\n",
       "pchisq(q, df, ncp = 0, lower.tail = TRUE, log.p = FALSE)\n",
       "qchisq(p, df, ncp = 0, lower.tail = TRUE, log.p = FALSE)\n",
       "rchisq(n, df, ncp = 0)\n",
       "\\end{verbatim}\n",
       "\\end{Usage}\n",
       "%\n",
       "\\begin{Arguments}\n",
       "\\begin{ldescription}\n",
       "\\item[\\code{x, q}] vector of quantiles.\n",
       "\\item[\\code{p}] vector of probabilities.\n",
       "\\item[\\code{n}] number of observations. If \\code{length(n) > 1}, the length\n",
       "is taken to be the number required.\n",
       "\\item[\\code{df}] degrees of freedom (non-negative, but can be non-integer).\n",
       "\\item[\\code{ncp}] non-centrality parameter (non-negative).\n",
       "\\item[\\code{log, log.p}] logical; if TRUE, probabilities p are given as log(p).\n",
       "\\item[\\code{lower.tail}] logical; if TRUE (default), probabilities are\n",
       "\\eqn{P[X \\le x]}{}, otherwise, \\eqn{P[X > x]}{}.\n",
       "\\end{ldescription}\n",
       "\\end{Arguments}\n",
       "%\n",
       "\\begin{Details}\\relax\n",
       "The chi-squared distribution with \\code{df}\\eqn{= n \\ge 0}{}\n",
       "degrees of freedom has density\n",
       "\\deqn{f_n(x) = \\frac{1}{{2}^{n/2} \\Gamma (n/2)} {x}^{n/2-1} {e}^{-x/2}}{}\n",
       "for \\eqn{x > 0}{}, where \\eqn{f_0(x) := \\lim_{n \\to 0} f_n(x) =\n",
       "  \\delta_0(x)}{}, a point mass at zero, is not a density function proper, but\n",
       "a ``\\eqn{\\delta}{} distribution''.\\\\{}\n",
       "The mean and variance are \\eqn{n}{} and \\eqn{2n}{}.\n",
       "\n",
       "The non-central chi-squared distribution with \\code{df}\\eqn{= n}{}\n",
       "degrees of freedom and non-centrality parameter \\code{ncp}\n",
       "\\eqn{= \\lambda}{} has density\n",
       "\\deqn{\n",
       "    f(x) = f_{n,\\lambda}(x) = e^{-\\lambda / 2}\n",
       "      \\sum_{r=0}^\\infty \\frac{(\\lambda/2)^r}{r!}\\, f_{n + 2r}(x)}{}\n",
       "for \\eqn{x \\ge 0}{}.  For integer \\eqn{n}{}, this is the distribution of\n",
       "the sum of squares of \\eqn{n}{} normals each with variance one,\n",
       "\\eqn{\\lambda}{} being the sum of squares of the normal means; further,\n",
       "\\\\{}\n",
       "\\eqn{E(X) = n + \\lambda}{}, \\eqn{Var(X) = 2(n + 2*\\lambda)}{}, and\n",
       "\\eqn{E((X - E(X))^3) = 8(n + 3*\\lambda)}{}.\n",
       "\n",
       "Note that the degrees of freedom \\code{df}\\eqn{= n}{}, can be\n",
       "non-integer, and also \\eqn{n = 0}{} which is relevant for\n",
       "non-centrality \\eqn{\\lambda > 0}{},\n",
       "see Johnson \\emph{et al} (1995, chapter 29).\n",
       "In that (noncentral, zero df) case, the distribution is a mixture of a\n",
       "point mass at \\eqn{x = 0}{} (of size \\code{pchisq(0, df=0, ncp=ncp)}) and\n",
       "a continuous part, and \\code{dchisq()} is \\emph{not} a density with\n",
       "respect to that mixture measure but rather the limit of the density\n",
       "for \\eqn{df \\to 0}{}.\n",
       "\n",
       "Note that \\code{ncp} values larger than about 1e5 (and even smaller)  may give inaccurate\n",
       "results with many warnings for \\code{pchisq} and \\code{qchisq}.\n",
       "\\end{Details}\n",
       "%\n",
       "\\begin{Value}\n",
       "\\code{dchisq} gives the density, \\code{pchisq} gives the distribution\n",
       "function, \\code{qchisq} gives the quantile function, and \\code{rchisq}\n",
       "generates random deviates.\n",
       "\n",
       "Invalid arguments will result in return value \\code{NaN}, with a warning.\n",
       "\n",
       "The length of the result is determined by \\code{n} for\n",
       "\\code{rchisq}, and is the maximum of the lengths of the\n",
       "numerical arguments for the other functions.\n",
       "\n",
       "The numerical arguments other than \\code{n} are recycled to the\n",
       "length of the result.  Only the first elements of the logical\n",
       "arguments are used.\n",
       "\\end{Value}\n",
       "%\n",
       "\\begin{Note}\\relax\n",
       "Supplying \\code{ncp = 0} uses the algorithm for the non-central\n",
       "distribution, which is not the same algorithm used if \\code{ncp} is\n",
       "omitted.  This is to give consistent behaviour in extreme cases with\n",
       "values of \\code{ncp} very near zero.\n",
       "\n",
       "The code for non-zero \\code{ncp} is principally intended to be used\n",
       "for moderate values of \\code{ncp}: it will not be highly accurate,\n",
       "especially in the tails, for large values.\n",
       "\\end{Note}\n",
       "%\n",
       "\\begin{Source}\\relax\n",
       "The central cases are computed via the gamma distribution.\n",
       "\n",
       "The non-central \\code{dchisq} and \\code{rchisq} are computed as a\n",
       "Poisson mixture of central chi-squares (Johnson \\emph{et al}, 1995, p.436).\n",
       "\n",
       "The non-central \\code{pchisq} is for \\code{ncp < 80} computed from\n",
       "the Poisson mixture of central chi-squares and for larger \\code{ncp}\n",
       "\\emph{via} a C translation of\n",
       "\n",
       "Ding, C. G. (1992)\n",
       "Algorithm AS275: Computing the non-central chi-squared\n",
       "distribution function. \\emph{Appl.Statist.}, \\bold{41} 478--482.\n",
       "\n",
       "which computes the lower tail only (so the upper tail suffers from\n",
       "cancellation and a warning will be given when this is likely to be\n",
       "significant).\n",
       "\n",
       "The non-central \\code{qchisq} is based on inversion of \\code{pchisq}.\n",
       "\\end{Source}\n",
       "%\n",
       "\\begin{References}\\relax\n",
       "Becker, R. A., Chambers, J. M. and Wilks, A. R. (1988)\n",
       "\\emph{The New S Language}.\n",
       "Wadsworth \\& Brooks/Cole.\n",
       "\n",
       "Johnson, N. L., Kotz, S. and Balakrishnan, N. (1995)\n",
       "\\emph{Continuous Univariate Distributions}, chapters 18 (volume 1)\n",
       "and 29 (volume 2). Wiley, New York.\n",
       "\\end{References}\n",
       "%\n",
       "\\begin{SeeAlso}\\relax\n",
       "\\LinkA{Distributions}{Distributions} for other standard distributions.\n",
       "\n",
       "A central chi-squared distribution with \\eqn{n}{} degrees of freedom\n",
       "is the same as a Gamma distribution with \\code{shape} \\eqn{\\alpha =\n",
       "    n/2}{} and \\code{scale} \\eqn{\\sigma = 2}{}.  Hence, see\n",
       "\\code{\\LinkA{dgamma}{dgamma}} for the Gamma distribution.\n",
       "\n",
       "The central chi-squared distribution with 2 d.f. is identical to the\n",
       "exponential distribution with rate 1/2: \\eqn{\\chi^2_2 = Exp(1/2)}{}, see\n",
       "\\code{\\LinkA{dexp}{dexp}}.\n",
       "\\end{SeeAlso}\n",
       "%\n",
       "\\begin{Examples}\n",
       "\\begin{ExampleCode}\n",
       "require(graphics)\n",
       "\n",
       "dchisq(1, df = 1:3)\n",
       "pchisq(1, df =  3)\n",
       "pchisq(1, df =  3, ncp = 0:4)  # includes the above\n",
       "\n",
       "x <- 1:10\n",
       "## Chi-squared(df = 2) is a special exponential distribution\n",
       "all.equal(dchisq(x, df = 2), dexp(x, 1/2))\n",
       "all.equal(pchisq(x, df = 2), pexp(x, 1/2))\n",
       "\n",
       "## non-central RNG -- df = 0 with ncp > 0:  Z0 has point mass at 0!\n",
       "Z0 <- rchisq(100, df = 0, ncp = 2.)\n",
       "graphics::stem(Z0)\n",
       "\n",
       "## visual testing\n",
       "## do P-P plots for 1000 points at various degrees of freedom\n",
       "L <- 1.2; n <- 1000; pp <- ppoints(n)\n",
       "op <- par(mfrow = c(3,3), mar = c(3,3,1,1)+.1, mgp = c(1.5,.6,0),\n",
       "          oma = c(0,0,3,0))\n",
       "for(df in 2^(4*rnorm(9))) {\n",
       "  plot(pp, sort(pchisq(rr <- rchisq(n, df = df, ncp = L), df = df, ncp = L)),\n",
       "       ylab = \"pchisq(rchisq(.),.)\", pch = \".\")\n",
       "  mtext(paste(\"df = \", formatC(df, digits = 4)), line =  -2, adj = 0.05)\n",
       "  abline(0, 1, col = 2)\n",
       "}\n",
       "mtext(expression(\"P-P plots : Noncentral  \"*\n",
       "                 chi^2 *\"(n=1000, df=X, ncp= 1.2)\"),\n",
       "      cex = 1.5, font = 2, outer = TRUE)\n",
       "par(op)\n",
       "\n",
       "## \"analytical\" test\n",
       "lam <- seq(0, 100, by = .25)\n",
       "p00 <- pchisq(0,      df = 0, ncp = lam)\n",
       "p.0 <- pchisq(1e-300, df = 0, ncp = lam)\n",
       "stopifnot(all.equal(p00, exp(-lam/2)),\n",
       "          all.equal(p.0, exp(-lam/2)))\n",
       "\\end{ExampleCode}\n",
       "\\end{Examples}"
      ],
      "text/plain": [
       "Chisquare                package:stats                 R Documentation\n",
       "\n",
       "_\bT_\bh_\be (_\bn_\bo_\bn-_\bc_\be_\bn_\bt_\br_\ba_\bl) _\bC_\bh_\bi-_\bS_\bq_\bu_\ba_\br_\be_\bd _\bD_\bi_\bs_\bt_\br_\bi_\bb_\bu_\bt_\bi_\bo_\bn\n",
       "\n",
       "_\bD_\be_\bs_\bc_\br_\bi_\bp_\bt_\bi_\bo_\bn:\n",
       "\n",
       "     Density, distribution function, quantile function and random\n",
       "     generation for the chi-squared (chi^2) distribution with ‘df’\n",
       "     degrees of freedom and optional non-centrality parameter ‘ncp’.\n",
       "\n",
       "_\bU_\bs_\ba_\bg_\be:\n",
       "\n",
       "     dchisq(x, df, ncp = 0, log = FALSE)\n",
       "     pchisq(q, df, ncp = 0, lower.tail = TRUE, log.p = FALSE)\n",
       "     qchisq(p, df, ncp = 0, lower.tail = TRUE, log.p = FALSE)\n",
       "     rchisq(n, df, ncp = 0)\n",
       "     \n",
       "_\bA_\br_\bg_\bu_\bm_\be_\bn_\bt_\bs:\n",
       "\n",
       "    x, q: vector of quantiles.\n",
       "\n",
       "       p: vector of probabilities.\n",
       "\n",
       "       n: number of observations. If ‘length(n) > 1’, the length is\n",
       "          taken to be the number required.\n",
       "\n",
       "      df: degrees of freedom (non-negative, but can be non-integer).\n",
       "\n",
       "     ncp: non-centrality parameter (non-negative).\n",
       "\n",
       "log, log.p: logical; if TRUE, probabilities p are given as log(p).\n",
       "\n",
       "lower.tail: logical; if TRUE (default), probabilities are P[X <= x],\n",
       "          otherwise, P[X > x].\n",
       "\n",
       "_\bD_\be_\bt_\ba_\bi_\bl_\bs:\n",
       "\n",
       "     The chi-squared distribution with ‘df’= n >= 0 degrees of freedom\n",
       "     has density\n",
       "\n",
       "            f_n(x) = 1 / (2^(n/2) Gamma(n/2))  x^(n/2-1) e^(-x/2)       \n",
       "     \n",
       "     for x > 0, where f_0(x) := \\lim_{n \\to 0} f_n(x) = delta_0(x), a\n",
       "     point mass at zero, is not a density function proper, but a “delta\n",
       "     distribution”.\n",
       "     The mean and variance are n and 2n.\n",
       "\n",
       "     The non-central chi-squared distribution with ‘df’= n degrees of\n",
       "     freedom and non-centrality parameter ‘ncp’ = lambda has density\n",
       "\n",
       "     f(x) = exp(-lambda/2) SUM_{r=0}^Inf ((lambda/2)^r / r!) dchisq(x, df + 2r)\n",
       "     \n",
       "     for x >= 0.  For integer n, this is the distribution of the sum of\n",
       "     squares of n normals each with variance one, lambda being the sum\n",
       "     of squares of the normal means; further,\n",
       "\n",
       "     E(X) = n + lambda, Var(X) = 2(n + 2*lambda), and E((X - E(X))^3) =\n",
       "     8(n + 3*lambda).\n",
       "\n",
       "     Note that the degrees of freedom ‘df’= n, can be non-integer, and\n",
       "     also n = 0 which is relevant for non-centrality lambda > 0, see\n",
       "     Johnson _et al_ (1995, chapter 29).  In that (noncentral, zero df)\n",
       "     case, the distribution is a mixture of a point mass at x = 0 (of\n",
       "     size ‘pchisq(0, df=0, ncp=ncp)’) and a continuous part, and\n",
       "     ‘dchisq()’ is _not_ a density with respect to that mixture measure\n",
       "     but rather the limit of the density for df -> 0.\n",
       "\n",
       "     Note that ‘ncp’ values larger than about 1e5 (and even smaller)\n",
       "     may give inaccurate results with many warnings for ‘pchisq’ and\n",
       "     ‘qchisq’.\n",
       "\n",
       "_\bV_\ba_\bl_\bu_\be:\n",
       "\n",
       "     ‘dchisq’ gives the density, ‘pchisq’ gives the distribution\n",
       "     function, ‘qchisq’ gives the quantile function, and ‘rchisq’\n",
       "     generates random deviates.\n",
       "\n",
       "     Invalid arguments will result in return value ‘NaN’, with a\n",
       "     warning.\n",
       "\n",
       "     The length of the result is determined by ‘n’ for ‘rchisq’, and is\n",
       "     the maximum of the lengths of the numerical arguments for the\n",
       "     other functions.\n",
       "\n",
       "     The numerical arguments other than ‘n’ are recycled to the length\n",
       "     of the result.  Only the first elements of the logical arguments\n",
       "     are used.\n",
       "\n",
       "_\bN_\bo_\bt_\be:\n",
       "\n",
       "     Supplying ‘ncp = 0’ uses the algorithm for the non-central\n",
       "     distribution, which is not the same algorithm used if ‘ncp’ is\n",
       "     omitted.  This is to give consistent behaviour in extreme cases\n",
       "     with values of ‘ncp’ very near zero.\n",
       "\n",
       "     The code for non-zero ‘ncp’ is principally intended to be used for\n",
       "     moderate values of ‘ncp’: it will not be highly accurate,\n",
       "     especially in the tails, for large values.\n",
       "\n",
       "_\bS_\bo_\bu_\br_\bc_\be:\n",
       "\n",
       "     The central cases are computed via the gamma distribution.\n",
       "\n",
       "     The non-central ‘dchisq’ and ‘rchisq’ are computed as a Poisson\n",
       "     mixture of central chi-squares (Johnson _et al_, 1995, p.436).\n",
       "\n",
       "     The non-central ‘pchisq’ is for ‘ncp < 80’ computed from the\n",
       "     Poisson mixture of central chi-squares and for larger ‘ncp’ _via_\n",
       "     a C translation of\n",
       "\n",
       "     Ding, C. G. (1992) Algorithm AS275: Computing the non-central\n",
       "     chi-squared distribution function. _Appl.Statist._, *41* 478-482.\n",
       "\n",
       "     which computes the lower tail only (so the upper tail suffers from\n",
       "     cancellation and a warning will be given when this is likely to be\n",
       "     significant).\n",
       "\n",
       "     The non-central ‘qchisq’ is based on inversion of ‘pchisq’.\n",
       "\n",
       "_\bR_\be_\bf_\be_\br_\be_\bn_\bc_\be_\bs:\n",
       "\n",
       "     Becker, R. A., Chambers, J. M. and Wilks, A. R. (1988) _The New S\n",
       "     Language_.  Wadsworth & Brooks/Cole.\n",
       "\n",
       "     Johnson, N. L., Kotz, S. and Balakrishnan, N. (1995) _Continuous\n",
       "     Univariate Distributions_, chapters 18 (volume 1) and 29 (volume\n",
       "     2). Wiley, New York.\n",
       "\n",
       "_\bS_\be_\be _\bA_\bl_\bs_\bo:\n",
       "\n",
       "     Distributions for other standard distributions.\n",
       "\n",
       "     A central chi-squared distribution with n degrees of freedom is\n",
       "     the same as a Gamma distribution with ‘shape’ a = n/2 and ‘scale’\n",
       "     s = 2.  Hence, see ‘dgamma’ for the Gamma distribution.\n",
       "\n",
       "     The central chi-squared distribution with 2 d.f. is identical to\n",
       "     the exponential distribution with rate 1/2: chi^2_2 = Exp(1/2),\n",
       "     see ‘dexp’.\n",
       "\n",
       "_\bE_\bx_\ba_\bm_\bp_\bl_\be_\bs:\n",
       "\n",
       "     require(graphics)\n",
       "     \n",
       "     dchisq(1, df = 1:3)\n",
       "     pchisq(1, df =  3)\n",
       "     pchisq(1, df =  3, ncp = 0:4)  # includes the above\n",
       "     \n",
       "     x <- 1:10\n",
       "     ## Chi-squared(df = 2) is a special exponential distribution\n",
       "     all.equal(dchisq(x, df = 2), dexp(x, 1/2))\n",
       "     all.equal(pchisq(x, df = 2), pexp(x, 1/2))\n",
       "     \n",
       "     ## non-central RNG -- df = 0 with ncp > 0:  Z0 has point mass at 0!\n",
       "     Z0 <- rchisq(100, df = 0, ncp = 2.)\n",
       "     graphics::stem(Z0)\n",
       "     \n",
       "     ## visual testing\n",
       "     ## do P-P plots for 1000 points at various degrees of freedom\n",
       "     L <- 1.2; n <- 1000; pp <- ppoints(n)\n",
       "     op <- par(mfrow = c(3,3), mar = c(3,3,1,1)+.1, mgp = c(1.5,.6,0),\n",
       "               oma = c(0,0,3,0))\n",
       "     for(df in 2^(4*rnorm(9))) {\n",
       "       plot(pp, sort(pchisq(rr <- rchisq(n, df = df, ncp = L), df = df, ncp = L)),\n",
       "            ylab = \"pchisq(rchisq(.),.)\", pch = \".\")\n",
       "       mtext(paste(\"df = \", formatC(df, digits = 4)), line =  -2, adj = 0.05)\n",
       "       abline(0, 1, col = 2)\n",
       "     }\n",
       "     mtext(expression(\"P-P plots : Noncentral  \"*\n",
       "                      chi^2 *\"(n=1000, df=X, ncp= 1.2)\"),\n",
       "           cex = 1.5, font = 2, outer = TRUE)\n",
       "     par(op)\n",
       "     \n",
       "     ## \"analytical\" test\n",
       "     lam <- seq(0, 100, by = .25)\n",
       "     p00 <- pchisq(0,      df = 0, ncp = lam)\n",
       "     p.0 <- pchisq(1e-300, df = 0, ncp = lam)\n",
       "     stopifnot(all.equal(p00, exp(-lam/2)),\n",
       "               all.equal(p.0, exp(-lam/2)))\n",
       "     "
      ]
     },
     "metadata": {},
     "output_type": "display_data"
    }
   ],
   "source": [
    "help(\"dchisq\")"
   ]
  },
  {
   "cell_type": "code",
   "execution_count": 3,
   "id": "43e0d38c-edb9-4c36-82a9-25fb33bb9720",
   "metadata": {
    "tags": []
   },
   "outputs": [
    {
     "data": {
      "text/html": [
       "\n",
       "<table width=\"100%\" summary=\"page for TDist {stats}\"><tr><td>TDist {stats}</td><td style=\"text-align: right;\">R Documentation</td></tr></table>\n",
       "\n",
       "<h2>The Student t Distribution</h2>\n",
       "\n",
       "<h3>Description</h3>\n",
       "\n",
       "<p>Density, distribution function, quantile function and random\n",
       "generation for the t distribution with <code>df</code> degrees of freedom\n",
       "(and optional non-centrality parameter <code>ncp</code>).\n",
       "</p>\n",
       "\n",
       "\n",
       "<h3>Usage</h3>\n",
       "\n",
       "<pre>\n",
       "dt(x, df, ncp, log = FALSE)\n",
       "pt(q, df, ncp, lower.tail = TRUE, log.p = FALSE)\n",
       "qt(p, df, ncp, lower.tail = TRUE, log.p = FALSE)\n",
       "rt(n, df, ncp)\n",
       "</pre>\n",
       "\n",
       "\n",
       "<h3>Arguments</h3>\n",
       "\n",
       "<table summary=\"R argblock\">\n",
       "<tr valign=\"top\"><td><code>x, q</code></td>\n",
       "<td>\n",
       "<p>vector of quantiles.</p>\n",
       "</td></tr>\n",
       "<tr valign=\"top\"><td><code>p</code></td>\n",
       "<td>\n",
       "<p>vector of probabilities.</p>\n",
       "</td></tr>\n",
       "<tr valign=\"top\"><td><code>n</code></td>\n",
       "<td>\n",
       "<p>number of observations. If <code>length(n) &gt; 1</code>, the length\n",
       "is taken to be the number required.</p>\n",
       "</td></tr>\n",
       "<tr valign=\"top\"><td><code>df</code></td>\n",
       "<td>\n",
       "<p>degrees of freedom (<i>&gt; 0</i>, maybe non-integer).  <code>df\n",
       "      = Inf</code> is allowed.</p>\n",
       "</td></tr>\n",
       "<tr valign=\"top\"><td><code>ncp</code></td>\n",
       "<td>\n",
       "<p>non-centrality parameter <i>delta</i>;\n",
       "currently except for <code>rt()</code>, only for <code>abs(ncp) &lt;= 37.62</code>.\n",
       "If omitted, use the central t distribution.</p>\n",
       "</td></tr>\n",
       "<tr valign=\"top\"><td><code>log, log.p</code></td>\n",
       "<td>\n",
       "<p>logical; if TRUE, probabilities p are given as log(p).</p>\n",
       "</td></tr>\n",
       "<tr valign=\"top\"><td><code>lower.tail</code></td>\n",
       "<td>\n",
       "<p>logical; if TRUE (default), probabilities are\n",
       "<i>P[X &le; x]</i>, otherwise, <i>P[X &gt; x]</i>.</p>\n",
       "</td></tr>\n",
       "</table>\n",
       "\n",
       "\n",
       "<h3>Details</h3>\n",
       "\n",
       "<p>The <i>t</i> distribution with <code>df</code> <i>= n</i> degrees of\n",
       "freedom has density\n",
       "</p>\n",
       "<p style=\"text-align: center;\"><i>f(x) = &Gamma;((n+1)/2) / (&radic;(n &pi;) &Gamma;(n/2)) (1 + x^2/n)^-((n+1)/2)</i></p>\n",
       "\n",
       "<p>for all real <i>x</i>.\n",
       "It has mean <i>0</i> (for <i>n &gt; 1</i>) and\n",
       "variance <i>n/(n-2)</i> (for <i>n &gt; 2</i>).\n",
       "</p>\n",
       "<p>The general <em>non-central</em> <i>t</i>\n",
       "with parameters <i>(df, Del)</i> <code>= (df, ncp)</code>\n",
       "is defined as the distribution of\n",
       "<i>T(df, Del) := (U + Del) / &radic;(V/df) </i>\n",
       "where <i>U</i> and <i>V</i>  are independent random\n",
       "variables, <i>U ~ N(0,1)</i> and\n",
       "<i>V ~ &chi;^2(df)</i> (see Chisquare).\n",
       "</p>\n",
       "<p>The most used applications are power calculations for <i>t</i>-tests:<br />\n",
       "Let <i>T= (mX - m0) / (S/sqrt(n))</i>\n",
       "where\n",
       "<i>mX</i> is the <code>mean</code> and <i>S</i> the sample standard\n",
       "deviation (<code>sd</code>) of <i>X_1, X_2, &hellip;, X_n</i> which are\n",
       "i.i.d. <i>N(&mu;, &sigma;^2)</i>\n",
       "Then <i>T</i> is distributed as non-central <i>t</i> with\n",
       "<code>df</code><i>= n - 1</i>\n",
       "degrees of freedom and <b>n</b>on-<b>c</b>entrality <b>p</b>arameter\n",
       "<code>ncp</code><i> = (&mu; - m0) * sqrt(n)/&sigma;</i>.\n",
       "</p>\n",
       "\n",
       "\n",
       "<h3>Value</h3>\n",
       "\n",
       "<p><code>dt</code> gives the density,\n",
       "<code>pt</code> gives the distribution function,\n",
       "<code>qt</code> gives the quantile function, and\n",
       "<code>rt</code> generates random deviates.\n",
       "</p>\n",
       "<p>Invalid arguments will result in return value <code>NaN</code>, with a warning.\n",
       "</p>\n",
       "<p>The length of the result is determined by <code>n</code> for\n",
       "<code>rt</code>, and is the maximum of the lengths of the\n",
       "numerical arguments for the other functions.  \n",
       "</p>\n",
       "<p>The numerical arguments other than <code>n</code> are recycled to the\n",
       "length of the result.  Only the first elements of the logical\n",
       "arguments are used.\n",
       "</p>\n",
       "\n",
       "\n",
       "<h3>Note</h3>\n",
       "\n",
       "<p>Supplying <code>ncp = 0</code> uses the algorithm for the non-central\n",
       "distribution, which is not the same algorithm used if <code>ncp</code> is\n",
       "omitted.  This is to give consistent behaviour in extreme cases with\n",
       "values of <code>ncp</code> very near zero.\n",
       "</p>\n",
       "<p>The code for non-zero <code>ncp</code> is principally intended to be used\n",
       "for moderate values of <code>ncp</code>: it will not be highly accurate,\n",
       "especially in the tails, for large values.\n",
       "</p>\n",
       "\n",
       "\n",
       "<h3>Source</h3>\n",
       "\n",
       "<p>The central <code>dt</code> is computed via an accurate formula\n",
       "provided by Catherine Loader (see the reference in <code>dbinom</code>).\n",
       "</p>\n",
       "<p>For the non-central case of <code>dt</code>, C code contributed by\n",
       "Claus Ekstrøm based on the relationship (for\n",
       "<i>x != 0</i>) to the cumulative distribution.\n",
       "</p>\n",
       "<p>For the central case of <code>pt</code>, a normal approximation in the\n",
       "tails, otherwise via <code>pbeta</code>.\n",
       "</p>\n",
       "<p>For the non-central case of <code>pt</code> based on a C translation of\n",
       "</p>\n",
       "<p>Lenth, R. V. (1989). <em>Algorithm AS 243</em> &mdash;\n",
       "Cumulative distribution function of the non-central <i>t</i> distribution,\n",
       "<em>Applied Statistics</em> <b>38</b>, 185&ndash;189.\n",
       "</p>\n",
       "<p>This computes the lower tail only, so the upper tail suffers from\n",
       "cancellation and a warning will be given when this is likely to be\n",
       "significant.\n",
       "</p>\n",
       "<p>For central <code>qt</code>, a C translation of\n",
       "</p>\n",
       "<p>Hill, G. W. (1970) Algorithm 396: Student's t-quantiles.\n",
       "<em>Communications of the ACM</em>, <b>13(10)</b>, 619&ndash;620.\n",
       "</p>\n",
       "<p>altered to take account of\n",
       "</p>\n",
       "<p>Hill, G. W. (1981) Remark on Algorithm 396, <em>ACM Transactions on\n",
       "Mathematical Software</em>, <b>7</b>, 250&ndash;1.\n",
       "</p>\n",
       "<p>The non-central case is done by inversion.\n",
       "</p>\n",
       "\n",
       "\n",
       "<h3>References</h3>\n",
       "\n",
       "<p>Becker, R. A., Chambers, J. M. and Wilks, A. R. (1988)\n",
       "<em>The New S Language</em>.\n",
       "Wadsworth &amp; Brooks/Cole. (Except non-central versions.)\n",
       "</p>\n",
       "<p>Johnson, N. L., Kotz, S. and Balakrishnan, N. (1995)\n",
       "<em>Continuous Univariate Distributions</em>, volume 2, chapters 28 and 31.\n",
       "Wiley, New York.\n",
       "</p>\n",
       "\n",
       "\n",
       "<h3>See Also</h3>\n",
       "\n",
       "<p>Distributions for other standard distributions, including\n",
       "<code>df</code> for the F distribution.\n",
       "</p>\n",
       "\n",
       "\n",
       "<h3>Examples</h3>\n",
       "\n",
       "<pre>\n",
       "require(graphics)\n",
       "\n",
       "1 - pt(1:5, df = 1)\n",
       "qt(.975, df = c(1:10,20,50,100,1000))\n",
       "\n",
       "tt &lt;- seq(0, 10, length.out = 21)\n",
       "ncp &lt;- seq(0, 6, length.out = 31)\n",
       "ptn &lt;- outer(tt, ncp, function(t, d) pt(t, df = 3, ncp = d))\n",
       "t.tit &lt;- \"Non-central t - Probabilities\"\n",
       "image(tt, ncp, ptn, zlim = c(0,1), main = t.tit)\n",
       "persp(tt, ncp, ptn, zlim = 0:1, r = 2, phi = 20, theta = 200, main = t.tit,\n",
       "      xlab = \"t\", ylab = \"non-centrality parameter\",\n",
       "      zlab = \"Pr(T &lt;= t)\")\n",
       "\n",
       "plot(function(x) dt(x, df = 3, ncp = 2), -3, 11, ylim = c(0, 0.32),\n",
       "     main = \"Non-central t - Density\", yaxs = \"i\")\n",
       "</pre>\n",
       "\n",
       "<hr /><div style=\"text-align: center;\">[Package <em>stats</em> version 4.1.3 ]</div>"
      ],
      "text/latex": [
       "\\inputencoding{utf8}\n",
       "\\HeaderA{TDist}{The Student t Distribution}{TDist}\n",
       "\\aliasA{dt}{TDist}{dt}\n",
       "\\aliasA{pt}{TDist}{pt}\n",
       "\\aliasA{qt}{TDist}{qt}\n",
       "\\aliasA{rt}{TDist}{rt}\n",
       "\\keyword{distribution}{TDist}\n",
       "%\n",
       "\\begin{Description}\\relax\n",
       "Density, distribution function, quantile function and random\n",
       "generation for the t distribution with \\code{df} degrees of freedom\n",
       "(and optional non-centrality parameter \\code{ncp}).\n",
       "\\end{Description}\n",
       "%\n",
       "\\begin{Usage}\n",
       "\\begin{verbatim}\n",
       "dt(x, df, ncp, log = FALSE)\n",
       "pt(q, df, ncp, lower.tail = TRUE, log.p = FALSE)\n",
       "qt(p, df, ncp, lower.tail = TRUE, log.p = FALSE)\n",
       "rt(n, df, ncp)\n",
       "\\end{verbatim}\n",
       "\\end{Usage}\n",
       "%\n",
       "\\begin{Arguments}\n",
       "\\begin{ldescription}\n",
       "\\item[\\code{x, q}] vector of quantiles.\n",
       "\\item[\\code{p}] vector of probabilities.\n",
       "\\item[\\code{n}] number of observations. If \\code{length(n) > 1}, the length\n",
       "is taken to be the number required.\n",
       "\\item[\\code{df}] degrees of freedom (\\eqn{> 0}{}, maybe non-integer).  \\code{df\n",
       "      = Inf} is allowed.\n",
       "\\item[\\code{ncp}] non-centrality parameter \\eqn{\\delta}{};\n",
       "currently except for \\code{rt()}, only for \\code{abs(ncp) <= 37.62}.\n",
       "If omitted, use the central t distribution.\n",
       "\\item[\\code{log, log.p}] logical; if TRUE, probabilities p are given as log(p).\n",
       "\\item[\\code{lower.tail}] logical; if TRUE (default), probabilities are\n",
       "\\eqn{P[X \\le x]}{}, otherwise, \\eqn{P[X > x]}{}.\n",
       "\\end{ldescription}\n",
       "\\end{Arguments}\n",
       "%\n",
       "\\begin{Details}\\relax\n",
       "The \\eqn{t}{} distribution with \\code{df} \\eqn{= \\nu}{} degrees of\n",
       "freedom has density\n",
       "\\deqn{\n",
       "    f(x) = \\frac{\\Gamma ((\\nu+1)/2)}{\\sqrt{\\pi \\nu} \\Gamma (\\nu/2)}\n",
       "    (1 + x^2/\\nu)^{-(\\nu+1)/2}%\n",
       "  }{}\n",
       "for all real \\eqn{x}{}.\n",
       "It has mean \\eqn{0}{} (for \\eqn{\\nu > 1}{}) and\n",
       "variance \\eqn{\\frac{\\nu}{\\nu-2}}{} (for \\eqn{\\nu > 2}{}).\n",
       "\n",
       "The general \\emph{non-central} \\eqn{t}{}\n",
       "with parameters \\eqn{(\\nu, \\delta)}{} \\code{= (df, ncp)}\n",
       "is defined as the distribution of\n",
       "\\eqn{T_{\\nu}(\\delta) := (U + \\delta)/\\sqrt{V/\\nu}}{}\n",
       "where \\eqn{U}{} and \\eqn{V}{}  are independent random\n",
       "variables, \\eqn{U \\sim {\\cal N}(0,1)}{} and\n",
       "\\eqn{V \\sim \\chi^2_\\nu}{} (see \\LinkA{Chisquare}{Chisquare}).\n",
       "\n",
       "The most used applications are power calculations for \\eqn{t}{}-tests:\\\\{}\n",
       "Let \\eqn{T = \\frac{\\bar{X} - \\mu_0}{S/\\sqrt{n}}}{}\n",
       "where\n",
       "\\eqn{\\bar{X}}{} is the \\code{\\LinkA{mean}{mean}} and \\eqn{S}{} the sample standard\n",
       "deviation (\\code{\\LinkA{sd}{sd}}) of \\eqn{X_1, X_2, \\dots, X_n}{} which are\n",
       "i.i.d. \\eqn{{\\cal N}(\\mu, \\sigma^2)}{}\n",
       "Then \\eqn{T}{} is distributed as non-central \\eqn{t}{} with\n",
       "\\code{df}\\eqn{{} = n-1}{}\n",
       "degrees of freedom and \\bold{n}on-\\bold{c}entrality \\bold{p}arameter\n",
       "\\code{ncp}\\eqn{{} = (\\mu - \\mu_0) \\sqrt{n}/\\sigma}{}.\n",
       "\\end{Details}\n",
       "%\n",
       "\\begin{Value}\n",
       "\\code{dt} gives the density,\n",
       "\\code{pt} gives the distribution function,\n",
       "\\code{qt} gives the quantile function, and\n",
       "\\code{rt} generates random deviates.\n",
       "\n",
       "Invalid arguments will result in return value \\code{NaN}, with a warning.\n",
       "\n",
       "The length of the result is determined by \\code{n} for\n",
       "\\code{rt}, and is the maximum of the lengths of the\n",
       "numerical arguments for the other functions.  \n",
       "\n",
       "The numerical arguments other than \\code{n} are recycled to the\n",
       "length of the result.  Only the first elements of the logical\n",
       "arguments are used.\n",
       "\\end{Value}\n",
       "%\n",
       "\\begin{Note}\\relax\n",
       "Supplying \\code{ncp = 0} uses the algorithm for the non-central\n",
       "distribution, which is not the same algorithm used if \\code{ncp} is\n",
       "omitted.  This is to give consistent behaviour in extreme cases with\n",
       "values of \\code{ncp} very near zero.\n",
       "\n",
       "The code for non-zero \\code{ncp} is principally intended to be used\n",
       "for moderate values of \\code{ncp}: it will not be highly accurate,\n",
       "especially in the tails, for large values.\n",
       "\\end{Note}\n",
       "%\n",
       "\\begin{Source}\\relax\n",
       "The central \\code{dt} is computed via an accurate formula\n",
       "provided by Catherine Loader (see the reference in \\code{\\LinkA{dbinom}{dbinom}}).\n",
       "\n",
       "For the non-central case of \\code{dt}, C code contributed by\n",
       "Claus Ekstrøm based on the relationship (for\n",
       "\\eqn{x \\neq 0}{}) to the cumulative distribution.\n",
       "\n",
       "For the central case of \\code{pt}, a normal approximation in the\n",
       "tails, otherwise via \\code{\\LinkA{pbeta}{pbeta}}.\n",
       "\n",
       "For the non-central case of \\code{pt} based on a C translation of\n",
       "\n",
       "Lenth, R. V. (1989). \\emph{Algorithm AS 243} ---\n",
       "Cumulative distribution function of the non-central \\eqn{t}{} distribution,\n",
       "\\emph{Applied Statistics} \\bold{38}, 185--189.\n",
       "\n",
       "This computes the lower tail only, so the upper tail suffers from\n",
       "cancellation and a warning will be given when this is likely to be\n",
       "significant.\n",
       "\n",
       "For central \\code{qt}, a C translation of\n",
       "\n",
       "Hill, G. W. (1970) Algorithm 396: Student's t-quantiles.\n",
       "\\emph{Communications of the ACM}, \\bold{13(10)}, 619--620.\n",
       "\n",
       "altered to take account of\n",
       "\n",
       "Hill, G. W. (1981) Remark on Algorithm 396, \\emph{ACM Transactions on\n",
       "Mathematical Software}, \\bold{7}, 250--1.\n",
       "\n",
       "The non-central case is done by inversion.\n",
       "\\end{Source}\n",
       "%\n",
       "\\begin{References}\\relax\n",
       "Becker, R. A., Chambers, J. M. and Wilks, A. R. (1988)\n",
       "\\emph{The New S Language}.\n",
       "Wadsworth \\& Brooks/Cole. (Except non-central versions.)\n",
       "\n",
       "Johnson, N. L., Kotz, S. and Balakrishnan, N. (1995)\n",
       "\\emph{Continuous Univariate Distributions}, volume 2, chapters 28 and 31.\n",
       "Wiley, New York.\n",
       "\\end{References}\n",
       "%\n",
       "\\begin{SeeAlso}\\relax\n",
       "\\LinkA{Distributions}{Distributions} for other standard distributions, including\n",
       "\\code{\\LinkA{df}{df}} for the F distribution.\n",
       "\\end{SeeAlso}\n",
       "%\n",
       "\\begin{Examples}\n",
       "\\begin{ExampleCode}\n",
       "require(graphics)\n",
       "\n",
       "1 - pt(1:5, df = 1)\n",
       "qt(.975, df = c(1:10,20,50,100,1000))\n",
       "\n",
       "tt <- seq(0, 10, length.out = 21)\n",
       "ncp <- seq(0, 6, length.out = 31)\n",
       "ptn <- outer(tt, ncp, function(t, d) pt(t, df = 3, ncp = d))\n",
       "t.tit <- \"Non-central t - Probabilities\"\n",
       "image(tt, ncp, ptn, zlim = c(0,1), main = t.tit)\n",
       "persp(tt, ncp, ptn, zlim = 0:1, r = 2, phi = 20, theta = 200, main = t.tit,\n",
       "      xlab = \"t\", ylab = \"non-centrality parameter\",\n",
       "      zlab = \"Pr(T <= t)\")\n",
       "\n",
       "plot(function(x) dt(x, df = 3, ncp = 2), -3, 11, ylim = c(0, 0.32),\n",
       "     main = \"Non-central t - Density\", yaxs = \"i\")\n",
       "\\end{ExampleCode}\n",
       "\\end{Examples}"
      ],
      "text/plain": [
       "TDist                  package:stats                   R Documentation\n",
       "\n",
       "_\bT_\bh_\be _\bS_\bt_\bu_\bd_\be_\bn_\bt _\bt _\bD_\bi_\bs_\bt_\br_\bi_\bb_\bu_\bt_\bi_\bo_\bn\n",
       "\n",
       "_\bD_\be_\bs_\bc_\br_\bi_\bp_\bt_\bi_\bo_\bn:\n",
       "\n",
       "     Density, distribution function, quantile function and random\n",
       "     generation for the t distribution with ‘df’ degrees of freedom\n",
       "     (and optional non-centrality parameter ‘ncp’).\n",
       "\n",
       "_\bU_\bs_\ba_\bg_\be:\n",
       "\n",
       "     dt(x, df, ncp, log = FALSE)\n",
       "     pt(q, df, ncp, lower.tail = TRUE, log.p = FALSE)\n",
       "     qt(p, df, ncp, lower.tail = TRUE, log.p = FALSE)\n",
       "     rt(n, df, ncp)\n",
       "     \n",
       "_\bA_\br_\bg_\bu_\bm_\be_\bn_\bt_\bs:\n",
       "\n",
       "    x, q: vector of quantiles.\n",
       "\n",
       "       p: vector of probabilities.\n",
       "\n",
       "       n: number of observations. If ‘length(n) > 1’, the length is\n",
       "          taken to be the number required.\n",
       "\n",
       "      df: degrees of freedom (> 0, maybe non-integer).  ‘df = Inf’ is\n",
       "          allowed.\n",
       "\n",
       "     ncp: non-centrality parameter delta; currently except for ‘rt()’,\n",
       "          only for ‘abs(ncp) <= 37.62’.  If omitted, use the central t\n",
       "          distribution.\n",
       "\n",
       "log, log.p: logical; if TRUE, probabilities p are given as log(p).\n",
       "\n",
       "lower.tail: logical; if TRUE (default), probabilities are P[X <= x],\n",
       "          otherwise, P[X > x].\n",
       "\n",
       "_\bD_\be_\bt_\ba_\bi_\bl_\bs:\n",
       "\n",
       "     The t distribution with ‘df’ = n degrees of freedom has density\n",
       "\n",
       "     f(x) = Gamma((n+1)/2) / (sqrt(n pi) Gamma(n/2)) (1 + x^2/n)^-((n+1)/2)\n",
       "     \n",
       "     for all real x.  It has mean 0 (for n > 1) and variance n/(n-2)\n",
       "     (for n > 2).\n",
       "\n",
       "     The general _non-central_ t with parameters (df, Del) ‘= (df,\n",
       "     ncp)’ is defined as the distribution of T(df, Del) := (U + Del) /\n",
       "     sqrt(V/df) where U and V are independent random variables, U ~\n",
       "     N(0,1) and V ~ chi^2(df) (see Chisquare).\n",
       "\n",
       "     The most used applications are power calculations for t-tests:\n",
       "     Let T= (mX - m0) / (S/sqrt(n)) where mX is the ‘mean’ and S the\n",
       "     sample standard deviation (‘sd’) of X_1, X_2, ..., X_n which are\n",
       "     i.i.d. N(mu, sigma^2) Then T is distributed as non-central t with\n",
       "     ‘df’= n - 1 degrees of freedom and *n*on-*c*entrality *p*arameter\n",
       "     ‘ncp’ = (mu - m0) * sqrt(n)/sigma.\n",
       "\n",
       "_\bV_\ba_\bl_\bu_\be:\n",
       "\n",
       "     ‘dt’ gives the density, ‘pt’ gives the distribution function, ‘qt’\n",
       "     gives the quantile function, and ‘rt’ generates random deviates.\n",
       "\n",
       "     Invalid arguments will result in return value ‘NaN’, with a\n",
       "     warning.\n",
       "\n",
       "     The length of the result is determined by ‘n’ for ‘rt’, and is the\n",
       "     maximum of the lengths of the numerical arguments for the other\n",
       "     functions.\n",
       "\n",
       "     The numerical arguments other than ‘n’ are recycled to the length\n",
       "     of the result.  Only the first elements of the logical arguments\n",
       "     are used.\n",
       "\n",
       "_\bN_\bo_\bt_\be:\n",
       "\n",
       "     Supplying ‘ncp = 0’ uses the algorithm for the non-central\n",
       "     distribution, which is not the same algorithm used if ‘ncp’ is\n",
       "     omitted.  This is to give consistent behaviour in extreme cases\n",
       "     with values of ‘ncp’ very near zero.\n",
       "\n",
       "     The code for non-zero ‘ncp’ is principally intended to be used for\n",
       "     moderate values of ‘ncp’: it will not be highly accurate,\n",
       "     especially in the tails, for large values.\n",
       "\n",
       "_\bS_\bo_\bu_\br_\bc_\be:\n",
       "\n",
       "     The central ‘dt’ is computed via an accurate formula provided by\n",
       "     Catherine Loader (see the reference in ‘dbinom’).\n",
       "\n",
       "     For the non-central case of ‘dt’, C code contributed by Claus\n",
       "     Ekstrøm based on the relationship (for x != 0) to the cumulative\n",
       "     distribution.\n",
       "\n",
       "     For the central case of ‘pt’, a normal approximation in the tails,\n",
       "     otherwise via ‘pbeta’.\n",
       "\n",
       "     For the non-central case of ‘pt’ based on a C translation of\n",
       "\n",
       "     Lenth, R. V. (1989). _Algorithm AS 243_ - Cumulative distribution\n",
       "     function of the non-central t distribution, _Applied Statistics_\n",
       "     *38*, 185-189.\n",
       "\n",
       "     This computes the lower tail only, so the upper tail suffers from\n",
       "     cancellation and a warning will be given when this is likely to be\n",
       "     significant.\n",
       "\n",
       "     For central ‘qt’, a C translation of\n",
       "\n",
       "     Hill, G. W. (1970) Algorithm 396: Student's t-quantiles.\n",
       "     _Communications of the ACM_, *13(10)*, 619-620.\n",
       "\n",
       "     altered to take account of\n",
       "\n",
       "     Hill, G. W. (1981) Remark on Algorithm 396, _ACM Transactions on\n",
       "     Mathematical Software_, *7*, 250-1.\n",
       "\n",
       "     The non-central case is done by inversion.\n",
       "\n",
       "_\bR_\be_\bf_\be_\br_\be_\bn_\bc_\be_\bs:\n",
       "\n",
       "     Becker, R. A., Chambers, J. M. and Wilks, A. R. (1988) _The New S\n",
       "     Language_.  Wadsworth & Brooks/Cole. (Except non-central\n",
       "     versions.)\n",
       "\n",
       "     Johnson, N. L., Kotz, S. and Balakrishnan, N. (1995) _Continuous\n",
       "     Univariate Distributions_, volume 2, chapters 28 and 31.  Wiley,\n",
       "     New York.\n",
       "\n",
       "_\bS_\be_\be _\bA_\bl_\bs_\bo:\n",
       "\n",
       "     Distributions for other standard distributions, including ‘df’ for\n",
       "     the F distribution.\n",
       "\n",
       "_\bE_\bx_\ba_\bm_\bp_\bl_\be_\bs:\n",
       "\n",
       "     require(graphics)\n",
       "     \n",
       "     1 - pt(1:5, df = 1)\n",
       "     qt(.975, df = c(1:10,20,50,100,1000))\n",
       "     \n",
       "     tt <- seq(0, 10, length.out = 21)\n",
       "     ncp <- seq(0, 6, length.out = 31)\n",
       "     ptn <- outer(tt, ncp, function(t, d) pt(t, df = 3, ncp = d))\n",
       "     t.tit <- \"Non-central t - Probabilities\"\n",
       "     image(tt, ncp, ptn, zlim = c(0,1), main = t.tit)\n",
       "     persp(tt, ncp, ptn, zlim = 0:1, r = 2, phi = 20, theta = 200, main = t.tit,\n",
       "           xlab = \"t\", ylab = \"non-centrality parameter\",\n",
       "           zlab = \"Pr(T <= t)\")\n",
       "     \n",
       "     plot(function(x) dt(x, df = 3, ncp = 2), -3, 11, ylim = c(0, 0.32),\n",
       "          main = \"Non-central t - Density\", yaxs = \"i\")\n",
       "     "
      ]
     },
     "metadata": {},
     "output_type": "display_data"
    }
   ],
   "source": [
    "help(\"dt\")"
   ]
  },
  {
   "cell_type": "code",
   "execution_count": 4,
   "id": "cc8bd421-fd15-4b6c-a493-78e04af9d35d",
   "metadata": {
    "tags": []
   },
   "outputs": [
    {
     "data": {
      "text/html": [
       "\n",
       "<table width=\"100%\" summary=\"page for FDist {stats}\"><tr><td>FDist {stats}</td><td style=\"text-align: right;\">R Documentation</td></tr></table>\n",
       "\n",
       "<h2>The F Distribution</h2>\n",
       "\n",
       "<h3>Description</h3>\n",
       "\n",
       "<p>Density, distribution function, quantile function and random\n",
       "generation for the F distribution with <code>df1</code> and <code>df2</code>\n",
       "degrees of freedom (and optional non-centrality parameter <code>ncp</code>).\n",
       "</p>\n",
       "\n",
       "\n",
       "<h3>Usage</h3>\n",
       "\n",
       "<pre>\n",
       "df(x, df1, df2, ncp, log = FALSE)\n",
       "pf(q, df1, df2, ncp, lower.tail = TRUE, log.p = FALSE)\n",
       "qf(p, df1, df2, ncp, lower.tail = TRUE, log.p = FALSE)\n",
       "rf(n, df1, df2, ncp)\n",
       "</pre>\n",
       "\n",
       "\n",
       "<h3>Arguments</h3>\n",
       "\n",
       "<table summary=\"R argblock\">\n",
       "<tr valign=\"top\"><td><code>x, q</code></td>\n",
       "<td>\n",
       "<p>vector of quantiles.</p>\n",
       "</td></tr>\n",
       "<tr valign=\"top\"><td><code>p</code></td>\n",
       "<td>\n",
       "<p>vector of probabilities.</p>\n",
       "</td></tr>\n",
       "<tr valign=\"top\"><td><code>n</code></td>\n",
       "<td>\n",
       "<p>number of observations. If <code>length(n) &gt; 1</code>, the length\n",
       "is taken to be the number required.</p>\n",
       "</td></tr>\n",
       "<tr valign=\"top\"><td><code>df1, df2</code></td>\n",
       "<td>\n",
       "<p>degrees of freedom.  <code>Inf</code> is allowed.</p>\n",
       "</td></tr>\n",
       "<tr valign=\"top\"><td><code>ncp</code></td>\n",
       "<td>\n",
       "<p>non-centrality parameter. If omitted the central F is assumed.</p>\n",
       "</td></tr>\n",
       "<tr valign=\"top\"><td><code>log, log.p</code></td>\n",
       "<td>\n",
       "<p>logical; if TRUE, probabilities p are given as log(p).</p>\n",
       "</td></tr>\n",
       "<tr valign=\"top\"><td><code>lower.tail</code></td>\n",
       "<td>\n",
       "<p>logical; if TRUE (default), probabilities are\n",
       "<i>P[X &le; x]</i>, otherwise, <i>P[X &gt; x]</i>.</p>\n",
       "</td></tr>\n",
       "</table>\n",
       "\n",
       "\n",
       "<h3>Details</h3>\n",
       "\n",
       "<p>The F distribution with <code>df1 =</code> <i>n1</i> and <code>df2 =</code>\n",
       "<i>n2</i> degrees of freedom has density\n",
       "</p>\n",
       "<p style=\"text-align: center;\"><i>f(x) = &Gamma;((n1 + n2)/2) / (&Gamma;(n1/2) &Gamma;(n2/2))\n",
       "    (n1/n2)^(n1/2) x^(n1/2 - 1)\n",
       "    (1 + (n1/n2) x)^-(n1 + n2)/2</i></p>\n",
       "\n",
       "<p>for <i>x &gt; 0</i>.\n",
       "</p>\n",
       "<p>It is the distribution of the ratio of the mean squares of\n",
       "<i>n1</i> and <i>n2</i> independent standard normals, and hence\n",
       "of the ratio of two independent chi-squared variates each divided by its\n",
       "degrees of freedom.  Since the ratio of a normal and the root\n",
       "mean-square of <i>m</i> independent normals has a Student's <i>t_m</i>\n",
       "distribution, the square of a <i>t_m</i> variate has a F distribution on\n",
       "1 and <i>m</i> degrees of freedom.\n",
       "</p>\n",
       "<p>The non-central F distribution is again the ratio of mean squares of\n",
       "independent normals of unit variance, but those in the numerator are\n",
       "allowed to have non-zero means and <code>ncp</code> is the sum of squares of\n",
       "the means.  See Chisquare for further details on\n",
       "non-central distributions.\n",
       "</p>\n",
       "\n",
       "\n",
       "<h3>Value</h3>\n",
       "\n",
       "<p><code>df</code> gives the density,\n",
       "<code>pf</code> gives the distribution function\n",
       "<code>qf</code> gives the quantile function, and\n",
       "<code>rf</code> generates random deviates.\n",
       "</p>\n",
       "<p>Invalid arguments will result in return value <code>NaN</code>, with a warning.\n",
       "</p>\n",
       "<p>The length of the result is determined by <code>n</code> for\n",
       "<code>rf</code>, and is the maximum of the lengths of the\n",
       "numerical arguments for the other functions.\n",
       "</p>\n",
       "<p>The numerical arguments other than <code>n</code> are recycled to the\n",
       "length of the result.  Only the first elements of the logical\n",
       "arguments are used.\n",
       "</p>\n",
       "\n",
       "\n",
       "<h3>Note</h3>\n",
       "\n",
       "<p>Supplying <code>ncp = 0</code> uses the algorithm for the non-central\n",
       "distribution, which is not the same algorithm used if <code>ncp</code> is\n",
       "omitted.  This is to give consistent behaviour in extreme cases with\n",
       "values of <code>ncp</code> very near zero.\n",
       "</p>\n",
       "<p>The code for non-zero <code>ncp</code> is principally intended to be used\n",
       "for moderate values of <code>ncp</code>: it will not be highly accurate,\n",
       "especially in the tails, for large values.\n",
       "</p>\n",
       "\n",
       "\n",
       "<h3>Source</h3>\n",
       "\n",
       "<p>For the central case of <code>df</code>, computed <em>via</em> a binomial\n",
       "probability, code contributed by Catherine Loader (see\n",
       "<code>dbinom</code>); for the non-central case computed <em>via</em>\n",
       "<code>dbeta</code>, code contributed by Peter Ruckdeschel.\n",
       "</p>\n",
       "<p>For <code>pf</code>, <em>via</em> <code>pbeta</code> (or for large\n",
       "<code>df2</code>, <em>via</em> <code>pchisq</code>).\n",
       "</p>\n",
       "<p>For <code>qf</code>, <em>via</em> <code>qchisq</code> for large <code>df2</code>,\n",
       "else <em>via</em> <code>qbeta</code>.\n",
       "</p>\n",
       "\n",
       "\n",
       "<h3>References</h3>\n",
       "\n",
       "<p>Becker, R. A., Chambers, J. M. and Wilks, A. R. (1988)\n",
       "<em>The New S Language</em>.\n",
       "Wadsworth &amp; Brooks/Cole.\n",
       "</p>\n",
       "<p>Johnson, N. L., Kotz, S. and Balakrishnan, N. (1995)\n",
       "<em>Continuous Univariate Distributions</em>, volume 2, chapters 27 and 30.\n",
       "Wiley, New York.\n",
       "</p>\n",
       "\n",
       "\n",
       "<h3>See Also</h3>\n",
       "\n",
       "<p>Distributions for other standard distributions, including\n",
       "<code>dchisq</code> for chi-squared and <code>dt</code> for Student's\n",
       "t distributions.\n",
       "</p>\n",
       "\n",
       "\n",
       "<h3>Examples</h3>\n",
       "\n",
       "<pre>\n",
       "## Equivalence of pt(.,nu) with pf(.^2, 1,nu):\n",
       "x &lt;- seq(0.001, 5, length.out = 100)\n",
       "nu &lt;- 4\n",
       "stopifnot(all.equal(2*pt(x,nu) - 1, pf(x^2, 1,nu)),\n",
       "          ## upper tails:\n",
       " \t  all.equal(2*pt(x,     nu, lower.tail=FALSE),\n",
       "\t\t      pf(x^2, 1,nu, lower.tail=FALSE)))\n",
       "\n",
       "## the density of the square of a t_m is 2*dt(x, m)/(2*x)\n",
       "# check this is the same as the density of F_{1,m}\n",
       "all.equal(df(x^2, 1, 5), dt(x, 5)/x)\n",
       "\n",
       "## Identity:  qf(2*p - 1, 1, df) == qt(p, df)^2  for  p &gt;= 1/2\n",
       "p &lt;- seq(1/2, .99, length.out = 50); df &lt;- 10\n",
       "rel.err &lt;- function(x, y) ifelse(x == y, 0, abs(x-y)/mean(abs(c(x,y))))\n",
       "quantile(rel.err(qf(2*p - 1, df1 = 1, df2 = df), qt(p, df)^2), .90)  # ~= 7e-9\n",
       "</pre>\n",
       "\n",
       "<hr /><div style=\"text-align: center;\">[Package <em>stats</em> version 4.1.3 ]</div>"
      ],
      "text/latex": [
       "\\inputencoding{utf8}\n",
       "\\HeaderA{FDist}{The F Distribution}{FDist}\n",
       "\\aliasA{df}{FDist}{df}\n",
       "\\aliasA{pf}{FDist}{pf}\n",
       "\\aliasA{qf}{FDist}{qf}\n",
       "\\aliasA{rf}{FDist}{rf}\n",
       "\\keyword{distribution}{FDist}\n",
       "%\n",
       "\\begin{Description}\\relax\n",
       "Density, distribution function, quantile function and random\n",
       "generation for the F distribution with \\code{df1} and \\code{df2}\n",
       "degrees of freedom (and optional non-centrality parameter \\code{ncp}).\n",
       "\\end{Description}\n",
       "%\n",
       "\\begin{Usage}\n",
       "\\begin{verbatim}\n",
       "df(x, df1, df2, ncp, log = FALSE)\n",
       "pf(q, df1, df2, ncp, lower.tail = TRUE, log.p = FALSE)\n",
       "qf(p, df1, df2, ncp, lower.tail = TRUE, log.p = FALSE)\n",
       "rf(n, df1, df2, ncp)\n",
       "\\end{verbatim}\n",
       "\\end{Usage}\n",
       "%\n",
       "\\begin{Arguments}\n",
       "\\begin{ldescription}\n",
       "\\item[\\code{x, q}] vector of quantiles.\n",
       "\\item[\\code{p}] vector of probabilities.\n",
       "\\item[\\code{n}] number of observations. If \\code{length(n) > 1}, the length\n",
       "is taken to be the number required.\n",
       "\\item[\\code{df1, df2}] degrees of freedom.  \\code{Inf} is allowed.\n",
       "\\item[\\code{ncp}] non-centrality parameter. If omitted the central F is assumed.\n",
       "\\item[\\code{log, log.p}] logical; if TRUE, probabilities p are given as log(p).\n",
       "\\item[\\code{lower.tail}] logical; if TRUE (default), probabilities are\n",
       "\\eqn{P[X \\le x]}{}, otherwise, \\eqn{P[X > x]}{}.\n",
       "\\end{ldescription}\n",
       "\\end{Arguments}\n",
       "%\n",
       "\\begin{Details}\\relax\n",
       "The F distribution with \\code{df1 =} \\eqn{n_1}{} and \\code{df2 =}\n",
       "\\eqn{n_2}{} degrees of freedom has density\n",
       "\\deqn{\n",
       "    f(x) = \\frac{\\Gamma(n_1/2 + n_2/2)}{\\Gamma(n_1/2)\\Gamma(n_2/2)}\n",
       "    \\left(\\frac{n_1}{n_2}\\right)^{n_1/2} x^{n_1/2 -1}\n",
       "    \\left(1 + \\frac{n_1 x}{n_2}\\right)^{-(n_1 + n_2) / 2}%\n",
       "  }{}\n",
       "for \\eqn{x > 0}{}.\n",
       "\n",
       "It is the distribution of the ratio of the mean squares of\n",
       "\\eqn{n_1}{} and \\eqn{n_2}{} independent standard normals, and hence\n",
       "of the ratio of two independent chi-squared variates each divided by its\n",
       "degrees of freedom.  Since the ratio of a normal and the root\n",
       "mean-square of \\eqn{m}{} independent normals has a Student's \\eqn{t_m}{}\n",
       "distribution, the square of a \\eqn{t_m}{} variate has a F distribution on\n",
       "1 and \\eqn{m}{} degrees of freedom.\n",
       "\n",
       "The non-central F distribution is again the ratio of mean squares of\n",
       "independent normals of unit variance, but those in the numerator are\n",
       "allowed to have non-zero means and \\code{ncp} is the sum of squares of\n",
       "the means.  See \\LinkA{Chisquare}{Chisquare} for further details on\n",
       "non-central distributions.\n",
       "\\end{Details}\n",
       "%\n",
       "\\begin{Value}\n",
       "\\code{df} gives the density,\n",
       "\\code{pf} gives the distribution function\n",
       "\\code{qf} gives the quantile function, and\n",
       "\\code{rf} generates random deviates.\n",
       "\n",
       "Invalid arguments will result in return value \\code{NaN}, with a warning.\n",
       "\n",
       "The length of the result is determined by \\code{n} for\n",
       "\\code{rf}, and is the maximum of the lengths of the\n",
       "numerical arguments for the other functions.\n",
       "\n",
       "The numerical arguments other than \\code{n} are recycled to the\n",
       "length of the result.  Only the first elements of the logical\n",
       "arguments are used.\n",
       "\\end{Value}\n",
       "%\n",
       "\\begin{Note}\\relax\n",
       "Supplying \\code{ncp = 0} uses the algorithm for the non-central\n",
       "distribution, which is not the same algorithm used if \\code{ncp} is\n",
       "omitted.  This is to give consistent behaviour in extreme cases with\n",
       "values of \\code{ncp} very near zero.\n",
       "\n",
       "The code for non-zero \\code{ncp} is principally intended to be used\n",
       "for moderate values of \\code{ncp}: it will not be highly accurate,\n",
       "especially in the tails, for large values.\n",
       "\\end{Note}\n",
       "%\n",
       "\\begin{Source}\\relax\n",
       "For the central case of \\code{df}, computed \\emph{via} a binomial\n",
       "probability, code contributed by Catherine Loader (see\n",
       "\\code{\\LinkA{dbinom}{dbinom}}); for the non-central case computed \\emph{via}\n",
       "\\code{\\LinkA{dbeta}{dbeta}}, code contributed by Peter Ruckdeschel.\n",
       "\n",
       "For \\code{pf}, \\emph{via} \\code{\\LinkA{pbeta}{pbeta}} (or for large\n",
       "\\code{df2}, \\emph{via} \\code{\\LinkA{pchisq}{pchisq}}).\n",
       "\n",
       "For \\code{qf}, \\emph{via} \\code{\\LinkA{qchisq}{qchisq}} for large \\code{df2},\n",
       "else \\emph{via} \\code{\\LinkA{qbeta}{qbeta}}.\n",
       "\\end{Source}\n",
       "%\n",
       "\\begin{References}\\relax\n",
       "Becker, R. A., Chambers, J. M. and Wilks, A. R. (1988)\n",
       "\\emph{The New S Language}.\n",
       "Wadsworth \\& Brooks/Cole.\n",
       "\n",
       "Johnson, N. L., Kotz, S. and Balakrishnan, N. (1995)\n",
       "\\emph{Continuous Univariate Distributions}, volume 2, chapters 27 and 30.\n",
       "Wiley, New York.\n",
       "\\end{References}\n",
       "%\n",
       "\\begin{SeeAlso}\\relax\n",
       "\\LinkA{Distributions}{Distributions} for other standard distributions, including\n",
       "\\code{\\LinkA{dchisq}{dchisq}} for chi-squared and \\code{\\LinkA{dt}{dt}} for Student's\n",
       "t distributions.\n",
       "\\end{SeeAlso}\n",
       "%\n",
       "\\begin{Examples}\n",
       "\\begin{ExampleCode}\n",
       "## Equivalence of pt(.,nu) with pf(.^2, 1,nu):\n",
       "x <- seq(0.001, 5, length.out = 100)\n",
       "nu <- 4\n",
       "stopifnot(all.equal(2*pt(x,nu) - 1, pf(x^2, 1,nu)),\n",
       "          ## upper tails:\n",
       " \t  all.equal(2*pt(x,     nu, lower.tail=FALSE),\n",
       "\t\t      pf(x^2, 1,nu, lower.tail=FALSE)))\n",
       "\n",
       "## the density of the square of a t_m is 2*dt(x, m)/(2*x)\n",
       "# check this is the same as the density of F_{1,m}\n",
       "all.equal(df(x^2, 1, 5), dt(x, 5)/x)\n",
       "\n",
       "## Identity:  qf(2*p - 1, 1, df) == qt(p, df)^2  for  p >= 1/2\n",
       "p <- seq(1/2, .99, length.out = 50); df <- 10\n",
       "rel.err <- function(x, y) ifelse(x == y, 0, abs(x-y)/mean(abs(c(x,y))))\n",
       "quantile(rel.err(qf(2*p - 1, df1 = 1, df2 = df), qt(p, df)^2), .90)  # ~= 7e-9\n",
       "\\end{ExampleCode}\n",
       "\\end{Examples}"
      ],
      "text/plain": [
       "FDist                  package:stats                   R Documentation\n",
       "\n",
       "_\bT_\bh_\be _\bF _\bD_\bi_\bs_\bt_\br_\bi_\bb_\bu_\bt_\bi_\bo_\bn\n",
       "\n",
       "_\bD_\be_\bs_\bc_\br_\bi_\bp_\bt_\bi_\bo_\bn:\n",
       "\n",
       "     Density, distribution function, quantile function and random\n",
       "     generation for the F distribution with ‘df1’ and ‘df2’ degrees of\n",
       "     freedom (and optional non-centrality parameter ‘ncp’).\n",
       "\n",
       "_\bU_\bs_\ba_\bg_\be:\n",
       "\n",
       "     df(x, df1, df2, ncp, log = FALSE)\n",
       "     pf(q, df1, df2, ncp, lower.tail = TRUE, log.p = FALSE)\n",
       "     qf(p, df1, df2, ncp, lower.tail = TRUE, log.p = FALSE)\n",
       "     rf(n, df1, df2, ncp)\n",
       "     \n",
       "_\bA_\br_\bg_\bu_\bm_\be_\bn_\bt_\bs:\n",
       "\n",
       "    x, q: vector of quantiles.\n",
       "\n",
       "       p: vector of probabilities.\n",
       "\n",
       "       n: number of observations. If ‘length(n) > 1’, the length is\n",
       "          taken to be the number required.\n",
       "\n",
       "df1, df2: degrees of freedom.  ‘Inf’ is allowed.\n",
       "\n",
       "     ncp: non-centrality parameter. If omitted the central F is\n",
       "          assumed.\n",
       "\n",
       "log, log.p: logical; if TRUE, probabilities p are given as log(p).\n",
       "\n",
       "lower.tail: logical; if TRUE (default), probabilities are P[X <= x],\n",
       "          otherwise, P[X > x].\n",
       "\n",
       "_\bD_\be_\bt_\ba_\bi_\bl_\bs:\n",
       "\n",
       "     The F distribution with ‘df1 =’ n1 and ‘df2 =’ n2 degrees of\n",
       "     freedom has density\n",
       "\n",
       "     f(x) = Gamma((n1 + n2)/2) / (Gamma(n1/2) Gamma(n2/2))\n",
       "         (n1/n2)^(n1/2) x^(n1/2 - 1)\n",
       "         (1 + (n1/n2) x)^-(n1 + n2)/2\n",
       "     \n",
       "     for x > 0.\n",
       "\n",
       "     It is the distribution of the ratio of the mean squares of n1 and\n",
       "     n2 independent standard normals, and hence of the ratio of two\n",
       "     independent chi-squared variates each divided by its degrees of\n",
       "     freedom.  Since the ratio of a normal and the root mean-square of\n",
       "     m independent normals has a Student's t_m distribution, the square\n",
       "     of a t_m variate has a F distribution on 1 and m degrees of\n",
       "     freedom.\n",
       "\n",
       "     The non-central F distribution is again the ratio of mean squares\n",
       "     of independent normals of unit variance, but those in the\n",
       "     numerator are allowed to have non-zero means and ‘ncp’ is the sum\n",
       "     of squares of the means.  See Chisquare for further details on\n",
       "     non-central distributions.\n",
       "\n",
       "_\bV_\ba_\bl_\bu_\be:\n",
       "\n",
       "     ‘df’ gives the density, ‘pf’ gives the distribution function ‘qf’\n",
       "     gives the quantile function, and ‘rf’ generates random deviates.\n",
       "\n",
       "     Invalid arguments will result in return value ‘NaN’, with a\n",
       "     warning.\n",
       "\n",
       "     The length of the result is determined by ‘n’ for ‘rf’, and is the\n",
       "     maximum of the lengths of the numerical arguments for the other\n",
       "     functions.\n",
       "\n",
       "     The numerical arguments other than ‘n’ are recycled to the length\n",
       "     of the result.  Only the first elements of the logical arguments\n",
       "     are used.\n",
       "\n",
       "_\bN_\bo_\bt_\be:\n",
       "\n",
       "     Supplying ‘ncp = 0’ uses the algorithm for the non-central\n",
       "     distribution, which is not the same algorithm used if ‘ncp’ is\n",
       "     omitted.  This is to give consistent behaviour in extreme cases\n",
       "     with values of ‘ncp’ very near zero.\n",
       "\n",
       "     The code for non-zero ‘ncp’ is principally intended to be used for\n",
       "     moderate values of ‘ncp’: it will not be highly accurate,\n",
       "     especially in the tails, for large values.\n",
       "\n",
       "_\bS_\bo_\bu_\br_\bc_\be:\n",
       "\n",
       "     For the central case of ‘df’, computed _via_ a binomial\n",
       "     probability, code contributed by Catherine Loader (see ‘dbinom’);\n",
       "     for the non-central case computed _via_ ‘dbeta’, code contributed\n",
       "     by Peter Ruckdeschel.\n",
       "\n",
       "     For ‘pf’, _via_ ‘pbeta’ (or for large ‘df2’, _via_ ‘pchisq’).\n",
       "\n",
       "     For ‘qf’, _via_ ‘qchisq’ for large ‘df2’, else _via_ ‘qbeta’.\n",
       "\n",
       "_\bR_\be_\bf_\be_\br_\be_\bn_\bc_\be_\bs:\n",
       "\n",
       "     Becker, R. A., Chambers, J. M. and Wilks, A. R. (1988) _The New S\n",
       "     Language_.  Wadsworth & Brooks/Cole.\n",
       "\n",
       "     Johnson, N. L., Kotz, S. and Balakrishnan, N. (1995) _Continuous\n",
       "     Univariate Distributions_, volume 2, chapters 27 and 30.  Wiley,\n",
       "     New York.\n",
       "\n",
       "_\bS_\be_\be _\bA_\bl_\bs_\bo:\n",
       "\n",
       "     Distributions for other standard distributions, including ‘dchisq’\n",
       "     for chi-squared and ‘dt’ for Student's t distributions.\n",
       "\n",
       "_\bE_\bx_\ba_\bm_\bp_\bl_\be_\bs:\n",
       "\n",
       "     ## Equivalence of pt(.,nu) with pf(.^2, 1,nu):\n",
       "     x <- seq(0.001, 5, length.out = 100)\n",
       "     nu <- 4\n",
       "     stopifnot(all.equal(2*pt(x,nu) - 1, pf(x^2, 1,nu)),\n",
       "               ## upper tails:\n",
       "               all.equal(2*pt(x,     nu, lower.tail=FALSE),\n",
       "                           pf(x^2, 1,nu, lower.tail=FALSE)))\n",
       "     \n",
       "     ## the density of the square of a t_m is 2*dt(x, m)/(2*x)\n",
       "     # check this is the same as the density of F_{1,m}\n",
       "     all.equal(df(x^2, 1, 5), dt(x, 5)/x)\n",
       "     \n",
       "     ## Identity:  qf(2*p - 1, 1, df) == qt(p, df)^2  for  p >= 1/2\n",
       "     p <- seq(1/2, .99, length.out = 50); df <- 10\n",
       "     rel.err <- function(x, y) ifelse(x == y, 0, abs(x-y)/mean(abs(c(x,y))))\n",
       "     quantile(rel.err(qf(2*p - 1, df1 = 1, df2 = df), qt(p, df)^2), .90)  # ~= 7e-9\n",
       "     "
      ]
     },
     "metadata": {},
     "output_type": "display_data"
    }
   ],
   "source": [
    "help(\"df\")"
   ]
  },
  {
   "cell_type": "code",
   "execution_count": 5,
   "id": "0997f31a-be40-4e9e-877b-5f53ac3d5de7",
   "metadata": {
    "tags": []
   },
   "outputs": [
    {
     "data": {
      "text/html": [
       "0.1361367"
      ],
      "text/latex": [
       "0.1361367"
      ],
      "text/markdown": [
       "0.1361367"
      ],
      "text/plain": [
       "[1] 0.1361367"
      ]
     },
     "metadata": {},
     "output_type": "display_data"
    }
   ],
   "source": [
    "dbinom(4,8,0.3)"
   ]
  },
  {
   "cell_type": "code",
   "execution_count": 6,
   "id": "d77a5713-079a-415f-8cb5-0cf521c65bc9",
   "metadata": {
    "tags": []
   },
   "outputs": [
    {
     "data": {
      "text/html": [
       "0.1361367"
      ],
      "text/latex": [
       "0.1361367"
      ],
      "text/markdown": [
       "0.1361367"
      ],
      "text/plain": [
       "[1] 0.1361367"
      ]
     },
     "metadata": {},
     "output_type": "display_data"
    }
   ],
   "source": [
    "choose(8,4)*0.3^4*(1-0.3)^(8-4)"
   ]
  },
  {
   "cell_type": "code",
   "execution_count": 7,
   "id": "6b925615-3afd-4890-b1ab-bc754eaecf14",
   "metadata": {
    "tags": []
   },
   "outputs": [
    {
     "data": {
      "text/html": [
       "0.146069170779738"
      ],
      "text/latex": [
       "0.146069170779738"
      ],
      "text/markdown": [
       "0.146069170779738"
      ],
      "text/plain": [
       "[1] 0.1460692"
      ]
     },
     "metadata": {},
     "output_type": "display_data"
    }
   ],
   "source": [
    "dnorm(1.7,2,0.12)"
   ]
  },
  {
   "cell_type": "code",
   "execution_count": 9,
   "id": "6b0701d8-443c-45b6-916c-5db4e9df84a6",
   "metadata": {
    "tags": []
   },
   "outputs": [
    {
     "data": {
      "text/html": [
       "0.146069170779738"
      ],
      "text/latex": [
       "0.146069170779738"
      ],
      "text/markdown": [
       "0.146069170779738"
      ],
      "text/plain": [
       "[1] 0.1460692"
      ]
     },
     "metadata": {},
     "output_type": "display_data"
    }
   ],
   "source": [
    "(1/sqrt(2*pi*0.12^2))*exp(-(2-1.7)^2/(2*0.12^2))"
   ]
  },
  {
   "cell_type": "code",
   "execution_count": 10,
   "id": "f2f3d29d-7e2b-48b6-a00c-1b051e6a6920",
   "metadata": {
    "tags": []
   },
   "outputs": [
    {
     "data": {
      "text/html": [
       "<style>\n",
       ".list-inline {list-style: none; margin:0; padding: 0}\n",
       ".list-inline>li {display: inline-block}\n",
       ".list-inline>li:not(:last-child)::after {content: \"\\00b7\"; padding: 0 .5ex}\n",
       "</style>\n",
       "<ol class=list-inline><li>4</li><li>6</li></ol>\n"
      ],
      "text/latex": [
       "\\begin{enumerate*}\n",
       "\\item 4\n",
       "\\item 6\n",
       "\\end{enumerate*}\n"
      ],
      "text/markdown": [
       "1. 4\n",
       "2. 6\n",
       "\n",
       "\n"
      ],
      "text/plain": [
       "[1] 4 6"
      ]
     },
     "metadata": {},
     "output_type": "display_data"
    }
   ],
   "source": [
    "c(4,6)"
   ]
  },
  {
   "cell_type": "code",
   "execution_count": 11,
   "id": "896fe196-d5b8-475b-ad16-94e3ad146d52",
   "metadata": {
    "tags": []
   },
   "outputs": [
    {
     "data": {
      "text/html": [
       "<style>\n",
       ".list-inline {list-style: none; margin:0; padding: 0}\n",
       ".list-inline>li {display: inline-block}\n",
       ".list-inline>li:not(:last-child)::after {content: \"\\00b7\"; padding: 0 .5ex}\n",
       "</style>\n",
       "<ol class=list-inline><li>0.1361367</li><li>0.01000188</li></ol>\n"
      ],
      "text/latex": [
       "\\begin{enumerate*}\n",
       "\\item 0.1361367\n",
       "\\item 0.01000188\n",
       "\\end{enumerate*}\n"
      ],
      "text/markdown": [
       "1. 0.1361367\n",
       "2. 0.01000188\n",
       "\n",
       "\n"
      ],
      "text/plain": [
       "[1] 0.13613670 0.01000188"
      ]
     },
     "metadata": {},
     "output_type": "display_data"
    }
   ],
   "source": [
    "dbinom(c(4,6),8,0.3)"
   ]
  },
  {
   "cell_type": "code",
   "execution_count": 12,
   "id": "66ca3878-acdd-4e3a-9deb-d0f85cf985e0",
   "metadata": {
    "tags": []
   },
   "outputs": [
    {
     "data": {
      "text/html": [
       "<style>\n",
       ".list-inline {list-style: none; margin:0; padding: 0}\n",
       ".list-inline>li {display: inline-block}\n",
       ".list-inline>li:not(:last-child)::after {content: \"\\00b7\"; padding: 0 .5ex}\n",
       "</style>\n",
       "<ol class=list-inline><li>1</li><li>2</li><li>3</li></ol>\n"
      ],
      "text/latex": [
       "\\begin{enumerate*}\n",
       "\\item 1\n",
       "\\item 2\n",
       "\\item 3\n",
       "\\end{enumerate*}\n"
      ],
      "text/markdown": [
       "1. 1\n",
       "2. 2\n",
       "3. 3\n",
       "\n",
       "\n"
      ],
      "text/plain": [
       "[1] 1 2 3"
      ]
     },
     "metadata": {},
     "output_type": "display_data"
    }
   ],
   "source": [
    "c(1,2,3)"
   ]
  },
  {
   "cell_type": "code",
   "execution_count": 13,
   "id": "2da3ade9-2431-4d80-b058-11113d419086",
   "metadata": {
    "tags": []
   },
   "outputs": [
    {
     "data": {
      "text/html": [
       "<style>\n",
       ".list-inline {list-style: none; margin:0; padding: 0}\n",
       ".list-inline>li {display: inline-block}\n",
       ".list-inline>li:not(:last-child)::after {content: \"\\00b7\"; padding: 0 .5ex}\n",
       "</style>\n",
       "<ol class=list-inline><li>0.135335283236613</li><li>0.0366312777774684</li><li>0.00743625652999908</li></ol>\n"
      ],
      "text/latex": [
       "\\begin{enumerate*}\n",
       "\\item 0.135335283236613\n",
       "\\item 0.0366312777774684\n",
       "\\item 0.00743625652999908\n",
       "\\end{enumerate*}\n"
      ],
      "text/markdown": [
       "1. 0.135335283236613\n",
       "2. 0.0366312777774684\n",
       "3. 0.00743625652999908\n",
       "\n",
       "\n"
      ],
      "text/plain": [
       "[1] 0.135335283 0.036631278 0.007436257"
      ]
     },
     "metadata": {},
     "output_type": "display_data"
    }
   ],
   "source": [
    "dexp(2,c(1,2,3))"
   ]
  },
  {
   "cell_type": "code",
   "execution_count": 14,
   "id": "5f897b40-6904-424e-baf6-d2635eabfd53",
   "metadata": {
    "tags": []
   },
   "outputs": [],
   "source": [
    "vec=dexp(2,c(1,2,3))"
   ]
  },
  {
   "cell_type": "code",
   "execution_count": 15,
   "id": "c25bc3c5-c648-4d35-9e52-d6bd3e3a9625",
   "metadata": {
    "tags": []
   },
   "outputs": [
    {
     "data": {
      "text/html": [
       "<style>\n",
       ".list-inline {list-style: none; margin:0; padding: 0}\n",
       ".list-inline>li {display: inline-block}\n",
       ".list-inline>li:not(:last-child)::after {content: \"\\00b7\"; padding: 0 .5ex}\n",
       "</style>\n",
       "<ol class=list-inline><li>0.135335283236613</li><li>0.0366312777774684</li><li>0.00743625652999908</li></ol>\n"
      ],
      "text/latex": [
       "\\begin{enumerate*}\n",
       "\\item 0.135335283236613\n",
       "\\item 0.0366312777774684\n",
       "\\item 0.00743625652999908\n",
       "\\end{enumerate*}\n"
      ],
      "text/markdown": [
       "1. 0.135335283236613\n",
       "2. 0.0366312777774684\n",
       "3. 0.00743625652999908\n",
       "\n",
       "\n"
      ],
      "text/plain": [
       "[1] 0.135335283 0.036631278 0.007436257"
      ]
     },
     "metadata": {},
     "output_type": "display_data"
    }
   ],
   "source": [
    "vec"
   ]
  },
  {
   "cell_type": "code",
   "execution_count": 16,
   "id": "9c2ed9d5-0c56-4922-a200-b838a793bf34",
   "metadata": {
    "tags": []
   },
   "outputs": [
    {
     "data": {
      "image/png": "[encoded data removed]",
      "text/plain": [
       "plot without title"
      ]
     },
     "metadata": {
      "image/png": {
       "height": 420,
       "width": 420
      }
     },
     "output_type": "display_data"
    }
   ],
   "source": [
    "plot(0:5,dbinom(0:5,5,0.2),type=\"h\",ylab=\"P(X=x)\")\n"
   ]
  },
  {
   "cell_type": "code",
   "execution_count": 17,
   "id": "438b9922-ee6f-455f-8bdf-4b90ff6fd38b",
   "metadata": {
    "tags": []
   },
   "outputs": [
    {
     "data": {
      "image/png": "[encoded data removed]",
      "text/plain": [
       "plot without title"
      ]
     },
     "metadata": {
      "image/png": {
       "height": 420,
       "width": 420
      }
     },
     "output_type": "display_data"
    }
   ],
   "source": [
    "curve(dnorm(x,5,1.5),0.5,9.5,ylab=\"fX(x)\")\n"
   ]
  },
  {
   "cell_type": "code",
   "execution_count": 18,
   "id": "1d01fef3-0532-4ad5-b91a-50fc46c886d0",
   "metadata": {
    "tags": []
   },
   "outputs": [
    {
     "data": {
      "text/html": [
       "0.94203235"
      ],
      "text/latex": [
       "0.94203235"
      ],
      "text/markdown": [
       "0.94203235"
      ],
      "text/plain": [
       "[1] 0.9420324"
      ]
     },
     "metadata": {},
     "output_type": "display_data"
    }
   ],
   "source": [
    "pbinom(4,8,0.3)"
   ]
  },
  {
   "cell_type": "code",
   "execution_count": 19,
   "id": "a7f996e8-ec95-4b14-828b-67290759076a",
   "metadata": {
    "tags": []
   },
   "outputs": [
    {
     "data": {
      "text/html": [
       "0.94203235"
      ],
      "text/latex": [
       "0.94203235"
      ],
      "text/markdown": [
       "0.94203235"
      ],
      "text/plain": [
       "[1] 0.9420323"
      ]
     },
     "metadata": {},
     "output_type": "display_data"
    }
   ],
   "source": [
    "sum(dbinom(0:4,8,0.3))"
   ]
  },
  {
   "cell_type": "code",
   "execution_count": 20,
   "id": "220a120a-b052-4cbc-8177-95af01e1dd90",
   "metadata": {
    "tags": []
   },
   "outputs": [
    {
     "data": {
      "text/html": [
       "0.933192798731142"
      ],
      "text/latex": [
       "0.933192798731142"
      ],
      "text/markdown": [
       "0.933192798731142"
      ],
      "text/plain": [
       "[1] 0.9331928"
      ]
     },
     "metadata": {},
     "output_type": "display_data"
    }
   ],
   "source": [
    "pnorm(12,9,2)"
   ]
  },
  {
   "cell_type": "code",
   "execution_count": 21,
   "id": "920fd7ff-2763-49fe-ba99-6591c0be68f0",
   "metadata": {
    "tags": []
   },
   "outputs": [
    {
     "data": {
      "text/plain": [
       "0.9331928 with absolute error < 4.6e-09"
      ]
     },
     "metadata": {},
     "output_type": "display_data"
    }
   ],
   "source": [
    "integrate(function(x) dnorm(x,9,2),-100,12)"
   ]
  },
  {
   "cell_type": "code",
   "execution_count": 22,
   "id": "cd9c4caa-821c-4f9d-9b1e-836f674548bf",
   "metadata": {
    "tags": []
   },
   "outputs": [
    {
     "data": {
      "text/html": [
       "0.00247875217666636"
      ],
      "text/latex": [
       "0.00247875217666636"
      ],
      "text/markdown": [
       "0.00247875217666636"
      ],
      "text/plain": [
       "[1] 0.002478752"
      ]
     },
     "metadata": {},
     "output_type": "display_data"
    }
   ],
   "source": [
    "pexp(2,3,lower.tail=FALSE)"
   ]
  },
  {
   "cell_type": "code",
   "execution_count": 23,
   "id": "84c866f9-274c-4ba2-9ee1-e58e9e18bd7a",
   "metadata": {
    "tags": []
   },
   "outputs": [
    {
     "data": {
      "text/html": [
       "0.00247875217666638"
      ],
      "text/latex": [
       "0.00247875217666638"
      ],
      "text/markdown": [
       "0.00247875217666638"
      ],
      "text/plain": [
       "[1] 0.002478752"
      ]
     },
     "metadata": {},
     "output_type": "display_data"
    }
   ],
   "source": [
    "1-pexp(2,3)"
   ]
  },
  {
   "cell_type": "code",
   "execution_count": 24,
   "id": "a8117344-a1e6-4c29-8ce6-53b3731d6f19",
   "metadata": {
    "tags": []
   },
   "outputs": [
    {
     "data": {
      "text/html": [
       "0.00247875217666636"
      ],
      "text/latex": [
       "0.00247875217666636"
      ],
      "text/markdown": [
       "0.00247875217666636"
      ],
      "text/plain": [
       "[1] 0.002478752"
      ]
     },
     "metadata": {},
     "output_type": "display_data"
    }
   ],
   "source": [
    "exp(-6)"
   ]
  },
  {
   "cell_type": "code",
   "execution_count": 25,
   "id": "d77f943a-10a8-41a2-8d7e-37e65cbc943a",
   "metadata": {
    "tags": []
   },
   "outputs": [
    {
     "data": {
      "image/png": "[encoded data removed]",
      "text/plain": [
       "Plot with title “Fonction de répartition”"
      ]
     },
     "metadata": {
      "image/png": {
       "height": 420,
       "width": 420
      }
     },
     "output_type": "display_data"
    }
   ],
   "source": [
    "plot(stepfun(0:15,c(0, pbinom(0:15, 15, 0.6))),ylab=\"FX(x)\",main=\"Fonction de répartition\")"
   ]
  },
  {
   "cell_type": "code",
   "execution_count": 26,
   "id": "691b25fd-9f66-4668-a99f-813bb72cc345",
   "metadata": {
    "tags": []
   },
   "outputs": [
    {
     "data": {
      "image/png": "[encoded data removed]",
      "text/plain": [
       "plot without title"
      ]
     },
     "metadata": {
      "image/png": {
       "height": 420,
       "width": 420
      }
     },
     "output_type": "display_data"
    }
   ],
   "source": [
    "curve(pnorm(x,5,1.5),0.5,9.5,ylab=\"FX(x)\")"
   ]
  },
  {
   "cell_type": "code",
   "execution_count": 27,
   "id": "ffb299b5-ea2a-4068-86b8-7abe8fbabf4e",
   "metadata": {
    "tags": []
   },
   "outputs": [
    {
     "data": {
      "text/html": [
       "2"
      ],
      "text/latex": [
       "2"
      ],
      "text/markdown": [
       "2"
      ],
      "text/plain": [
       "[1] 2"
      ]
     },
     "metadata": {},
     "output_type": "display_data"
    }
   ],
   "source": [
    "qbinom(0.25,5,0.6) "
   ]
  },
  {
   "cell_type": "code",
   "execution_count": 30,
   "id": "7ffa88d7-0b97-49a5-9765-6354f813d8ad",
   "metadata": {
    "tags": []
   },
   "outputs": [
    {
     "data": {
      "text/html": [
       "<style>\n",
       ".list-inline {list-style: none; margin:0; padding: 0}\n",
       ".list-inline>li {display: inline-block}\n",
       ".list-inline>li:not(:last-child)::after {content: \"\\00b7\"; padding: 0 .5ex}\n",
       "</style>\n",
       "<ol class=list-inline><li>0.01024</li><li>0.08704</li><li>0.31744</li><li>0.66304</li><li>0.92224</li><li>1</li></ol>\n"
      ],
      "text/latex": [
       "\\begin{enumerate*}\n",
       "\\item 0.01024\n",
       "\\item 0.08704\n",
       "\\item 0.31744\n",
       "\\item 0.66304\n",
       "\\item 0.92224\n",
       "\\item 1\n",
       "\\end{enumerate*}\n"
      ],
      "text/markdown": [
       "1. 0.01024\n",
       "2. 0.08704\n",
       "3. 0.31744\n",
       "4. 0.66304\n",
       "5. 0.92224\n",
       "6. 1\n",
       "\n",
       "\n"
      ],
      "text/plain": [
       "[1] 0.01024 0.08704 0.31744 0.66304 0.92224 1.00000"
      ]
     },
     "metadata": {},
     "output_type": "display_data"
    }
   ],
   "source": [
    "pbinom(0:5,5,0.6)"
   ]
  },
  {
   "cell_type": "code",
   "execution_count": 31,
   "id": "a794e0db-f666-494e-91de-8bdc38da8444",
   "metadata": {
    "tags": []
   },
   "outputs": [
    {
     "data": {
      "text/html": [
       "1.95996398454005"
      ],
      "text/latex": [
       "1.95996398454005"
      ],
      "text/markdown": [
       "1.95996398454005"
      ],
      "text/plain": [
       "[1] 1.959964"
      ]
     },
     "metadata": {},
     "output_type": "display_data"
    }
   ],
   "source": [
    "qnorm(0.975,0,1)"
   ]
  },
  {
   "cell_type": "code",
   "execution_count": 32,
   "id": "98db7620-f23d-4c68-b600-2007b8420415",
   "metadata": {
    "tags": []
   },
   "outputs": [
    {
     "data": {
      "text/html": [
       "0.97500210485178"
      ],
      "text/latex": [
       "0.97500210485178"
      ],
      "text/markdown": [
       "0.97500210485178"
      ],
      "text/plain": [
       "[1] 0.9750021"
      ]
     },
     "metadata": {},
     "output_type": "display_data"
    }
   ],
   "source": [
    "pnorm(1.96,0,1)"
   ]
  },
  {
   "cell_type": "code",
   "execution_count": 33,
   "id": "9530116b-a75e-43fe-8d43-2e6d2d95f722",
   "metadata": {
    "tags": []
   },
   "outputs": [
    {
     "data": {
      "text/html": [
       "<style>\n",
       ".list-inline {list-style: none; margin:0; padding: 0}\n",
       ".list-inline>li {display: inline-block}\n",
       ".list-inline>li:not(:last-child)::after {content: \"\\00b7\"; padding: 0 .5ex}\n",
       "</style>\n",
       "<ol class=list-inline><li>2</li><li>1</li><li>2</li><li>2</li><li>2</li><li>1</li><li>2</li><li>3</li><li>2</li><li>0</li></ol>\n"
      ],
      "text/latex": [
       "\\begin{enumerate*}\n",
       "\\item 2\n",
       "\\item 1\n",
       "\\item 2\n",
       "\\item 2\n",
       "\\item 2\n",
       "\\item 1\n",
       "\\item 2\n",
       "\\item 3\n",
       "\\item 2\n",
       "\\item 0\n",
       "\\end{enumerate*}\n"
      ],
      "text/markdown": [
       "1. 2\n",
       "2. 1\n",
       "3. 2\n",
       "4. 2\n",
       "5. 2\n",
       "6. 1\n",
       "7. 2\n",
       "8. 3\n",
       "9. 2\n",
       "10. 0\n",
       "\n",
       "\n"
      ],
      "text/plain": [
       " [1] 2 1 2 2 2 1 2 3 2 0"
      ]
     },
     "metadata": {},
     "output_type": "display_data"
    }
   ],
   "source": [
    "rpois(10,2)"
   ]
  },
  {
   "cell_type": "code",
   "execution_count": 51,
   "id": "0d821fe4-35ca-4977-985f-6eb7e7da4e5d",
   "metadata": {
    "tags": []
   },
   "outputs": [
    {
     "data": {
      "text/html": [
       "2"
      ],
      "text/latex": [
       "2"
      ],
      "text/markdown": [
       "2"
      ],
      "text/plain": [
       "[1] 2"
      ]
     },
     "metadata": {},
     "output_type": "display_data"
    }
   ],
   "source": [
    "sum(rbinom(80,1,0.02))"
   ]
  },
  {
   "cell_type": "code",
   "execution_count": 52,
   "id": "e8728ac2-207b-47c1-b44a-26a0caac3eda",
   "metadata": {
    "tags": []
   },
   "outputs": [
    {
     "data": {
      "text/html": [
       "1"
      ],
      "text/latex": [
       "1"
      ],
      "text/markdown": [
       "1"
      ],
      "text/plain": [
       "[1] 1"
      ]
     },
     "metadata": {},
     "output_type": "display_data"
    }
   ],
   "source": [
    "rbinom(1,80,0.02)"
   ]
  },
  {
   "cell_type": "code",
   "execution_count": 53,
   "id": "34b01336-e611-4d5d-8971-0e91f35d4044",
   "metadata": {
    "tags": []
   },
   "outputs": [],
   "source": [
    "x=rnorm(15,22,2)"
   ]
  },
  {
   "cell_type": "code",
   "execution_count": 54,
   "id": "060c9ad2-8388-4c1e-b864-974ea18c3062",
   "metadata": {
    "tags": []
   },
   "outputs": [
    {
     "data": {
      "text/html": [
       "<style>\n",
       ".list-inline {list-style: none; margin:0; padding: 0}\n",
       ".list-inline>li {display: inline-block}\n",
       ".list-inline>li:not(:last-child)::after {content: \"\\00b7\"; padding: 0 .5ex}\n",
       "</style>\n",
       "<ol class=list-inline><li>21.7132036836594</li><li>20.2273497357006</li><li>24.5828153995937</li><li>22.2957195475357</li><li>20.4503618880521</li><li>21.9034905344207</li><li>23.5263270241819</li><li>18.5530239246912</li><li>24.7393224401714</li><li>21.7567338423659</li><li>20.5082661628704</li><li>22.1773197418581</li><li>22.695550207609</li><li>21.627637680874</li><li>22.2698643177943</li></ol>\n"
      ],
      "text/latex": [
       "\\begin{enumerate*}\n",
       "\\item 21.7132036836594\n",
       "\\item 20.2273497357006\n",
       "\\item 24.5828153995937\n",
       "\\item 22.2957195475357\n",
       "\\item 20.4503618880521\n",
       "\\item 21.9034905344207\n",
       "\\item 23.5263270241819\n",
       "\\item 18.5530239246912\n",
       "\\item 24.7393224401714\n",
       "\\item 21.7567338423659\n",
       "\\item 20.5082661628704\n",
       "\\item 22.1773197418581\n",
       "\\item 22.695550207609\n",
       "\\item 21.627637680874\n",
       "\\item 22.2698643177943\n",
       "\\end{enumerate*}\n"
      ],
      "text/markdown": [
       "1. 21.7132036836594\n",
       "2. 20.2273497357006\n",
       "3. 24.5828153995937\n",
       "4. 22.2957195475357\n",
       "5. 20.4503618880521\n",
       "6. 21.9034905344207\n",
       "7. 23.5263270241819\n",
       "8. 18.5530239246912\n",
       "9. 24.7393224401714\n",
       "10. 21.7567338423659\n",
       "11. 20.5082661628704\n",
       "12. 22.1773197418581\n",
       "13. 22.695550207609\n",
       "14. 21.627637680874\n",
       "15. 22.2698643177943\n",
       "\n",
       "\n"
      ],
      "text/plain": [
       " [1] 21.71320 20.22735 24.58282 22.29572 20.45036 21.90349 23.52633 18.55302\n",
       " [9] 24.73932 21.75673 20.50827 22.17732 22.69555 21.62764 22.26986"
      ]
     },
     "metadata": {},
     "output_type": "display_data"
    }
   ],
   "source": [
    "x"
   ]
  },
  {
   "cell_type": "code",
   "execution_count": 55,
   "id": "b2c803bf-3864-4e09-be07-53626880cbf8",
   "metadata": {
    "tags": []
   },
   "outputs": [],
   "source": [
    "urne<-1:10"
   ]
  },
  {
   "cell_type": "code",
   "execution_count": 56,
   "id": "2217e7a9-b8e7-4fd3-aeda-c10dd63aac03",
   "metadata": {
    "tags": []
   },
   "outputs": [
    {
     "data": {
      "text/html": [
       "<style>\n",
       ".list-inline {list-style: none; margin:0; padding: 0}\n",
       ".list-inline>li {display: inline-block}\n",
       ".list-inline>li:not(:last-child)::after {content: \"\\00b7\"; padding: 0 .5ex}\n",
       "</style>\n",
       "<ol class=list-inline><li>1</li><li>2</li><li>3</li><li>4</li><li>5</li><li>6</li><li>7</li><li>8</li><li>9</li><li>10</li></ol>\n"
      ],
      "text/latex": [
       "\\begin{enumerate*}\n",
       "\\item 1\n",
       "\\item 2\n",
       "\\item 3\n",
       "\\item 4\n",
       "\\item 5\n",
       "\\item 6\n",
       "\\item 7\n",
       "\\item 8\n",
       "\\item 9\n",
       "\\item 10\n",
       "\\end{enumerate*}\n"
      ],
      "text/markdown": [
       "1. 1\n",
       "2. 2\n",
       "3. 3\n",
       "4. 4\n",
       "5. 5\n",
       "6. 6\n",
       "7. 7\n",
       "8. 8\n",
       "9. 9\n",
       "10. 10\n",
       "\n",
       "\n"
      ],
      "text/plain": [
       " [1]  1  2  3  4  5  6  7  8  9 10"
      ]
     },
     "metadata": {},
     "output_type": "display_data"
    }
   ],
   "source": [
    "urne"
   ]
  },
  {
   "cell_type": "code",
   "execution_count": 57,
   "id": "d53a4c83-4a32-4112-b182-b26c287e41e7",
   "metadata": {
    "tags": []
   },
   "outputs": [
    {
     "data": {
      "text/html": [
       "4"
      ],
      "text/latex": [
       "4"
      ],
      "text/markdown": [
       "4"
      ],
      "text/plain": [
       "[1] 4"
      ]
     },
     "metadata": {},
     "output_type": "display_data"
    }
   ],
   "source": [
    "sample(urne,1)"
   ]
  },
  {
   "cell_type": "code",
   "execution_count": 58,
   "id": "919a0ff0-b151-4792-9130-831eec25ce8e",
   "metadata": {
    "tags": []
   },
   "outputs": [
    {
     "data": {
      "text/html": [
       "<style>\n",
       ".list-inline {list-style: none; margin:0; padding: 0}\n",
       ".list-inline>li {display: inline-block}\n",
       ".list-inline>li:not(:last-child)::after {content: \"\\00b7\"; padding: 0 .5ex}\n",
       "</style>\n",
       "<ol class=list-inline><li>1</li><li>2</li><li>3</li><li>4</li><li>5</li><li>6</li><li>7</li><li>8</li><li>9</li><li>10</li></ol>\n"
      ],
      "text/latex": [
       "\\begin{enumerate*}\n",
       "\\item 1\n",
       "\\item 2\n",
       "\\item 3\n",
       "\\item 4\n",
       "\\item 5\n",
       "\\item 6\n",
       "\\item 7\n",
       "\\item 8\n",
       "\\item 9\n",
       "\\item 10\n",
       "\\end{enumerate*}\n"
      ],
      "text/markdown": [
       "1. 1\n",
       "2. 2\n",
       "3. 3\n",
       "4. 4\n",
       "5. 5\n",
       "6. 6\n",
       "7. 7\n",
       "8. 8\n",
       "9. 9\n",
       "10. 10\n",
       "\n",
       "\n"
      ],
      "text/plain": [
       " [1]  1  2  3  4  5  6  7  8  9 10"
      ]
     },
     "metadata": {},
     "output_type": "display_data"
    }
   ],
   "source": [
    "urne"
   ]
  },
  {
   "cell_type": "code",
   "execution_count": 59,
   "id": "356625b9-885a-4542-84c9-268ee7e66a8a",
   "metadata": {
    "tags": []
   },
   "outputs": [
    {
     "data": {
      "text/html": [
       "<style>\n",
       ".list-inline {list-style: none; margin:0; padding: 0}\n",
       ".list-inline>li {display: inline-block}\n",
       ".list-inline>li:not(:last-child)::after {content: \"\\00b7\"; padding: 0 .5ex}\n",
       "</style>\n",
       "<ol class=list-inline><li>2</li><li>9</li><li>1</li><li>10</li><li>4</li><li>7</li><li>3</li><li>8</li></ol>\n"
      ],
      "text/latex": [
       "\\begin{enumerate*}\n",
       "\\item 2\n",
       "\\item 9\n",
       "\\item 1\n",
       "\\item 10\n",
       "\\item 4\n",
       "\\item 7\n",
       "\\item 3\n",
       "\\item 8\n",
       "\\end{enumerate*}\n"
      ],
      "text/markdown": [
       "1. 2\n",
       "2. 9\n",
       "3. 1\n",
       "4. 10\n",
       "5. 4\n",
       "6. 7\n",
       "7. 3\n",
       "8. 8\n",
       "\n",
       "\n"
      ],
      "text/plain": [
       "[1]  2  9  1 10  4  7  3  8"
      ]
     },
     "metadata": {},
     "output_type": "display_data"
    }
   ],
   "source": [
    "sample(urne,8)"
   ]
  },
  {
   "cell_type": "code",
   "execution_count": 60,
   "id": "12d21b28-98b9-480f-a946-3189d6cd48d8",
   "metadata": {
    "tags": []
   },
   "outputs": [
    {
     "ename": "ERROR",
     "evalue": "Error in sample.int(length(x), size, replace, prob): impossible de prendre un échantillon plus grand que la population lorsque 'replace = FALSE'\n",
     "output_type": "error",
     "traceback": [
      "Error in sample.int(length(x), size, replace, prob): impossible de prendre un échantillon plus grand que la population lorsque 'replace = FALSE'\nTraceback:\n",
      "1. sample(urne, 11)",
      "2. sample.int(length(x), size, replace, prob)"
     ]
    }
   ],
   "source": [
    "sample(urne,11)"
   ]
  },
  {
   "cell_type": "code",
   "execution_count": 61,
   "id": "6524faed-00a9-426e-8d81-19af4d472c56",
   "metadata": {
    "tags": []
   },
   "outputs": [],
   "source": [
    "urne<-1:10"
   ]
  },
  {
   "cell_type": "code",
   "execution_count": 62,
   "id": "85d064b3-32f1-45f2-9d5e-041f43b9ec87",
   "metadata": {
    "tags": []
   },
   "outputs": [
    {
     "data": {
      "text/html": [
       "<style>\n",
       ".list-inline {list-style: none; margin:0; padding: 0}\n",
       ".list-inline>li {display: inline-block}\n",
       ".list-inline>li:not(:last-child)::after {content: \"\\00b7\"; padding: 0 .5ex}\n",
       "</style>\n",
       "<ol class=list-inline><li>1</li><li>2</li><li>3</li><li>4</li><li>5</li><li>6</li><li>7</li><li>8</li><li>9</li><li>10</li></ol>\n"
      ],
      "text/latex": [
       "\\begin{enumerate*}\n",
       "\\item 1\n",
       "\\item 2\n",
       "\\item 3\n",
       "\\item 4\n",
       "\\item 5\n",
       "\\item 6\n",
       "\\item 7\n",
       "\\item 8\n",
       "\\item 9\n",
       "\\item 10\n",
       "\\end{enumerate*}\n"
      ],
      "text/markdown": [
       "1. 1\n",
       "2. 2\n",
       "3. 3\n",
       "4. 4\n",
       "5. 5\n",
       "6. 6\n",
       "7. 7\n",
       "8. 8\n",
       "9. 9\n",
       "10. 10\n",
       "\n",
       "\n"
      ],
      "text/plain": [
       " [1]  1  2  3  4  5  6  7  8  9 10"
      ]
     },
     "metadata": {},
     "output_type": "display_data"
    }
   ],
   "source": [
    "urne"
   ]
  },
  {
   "cell_type": "code",
   "execution_count": 63,
   "id": "d55d40ee-873f-44a9-9efd-934b0a925435",
   "metadata": {
    "tags": []
   },
   "outputs": [
    {
     "data": {
      "text/html": [
       "2"
      ],
      "text/latex": [
       "2"
      ],
      "text/markdown": [
       "2"
      ],
      "text/plain": [
       "[1] 2"
      ]
     },
     "metadata": {},
     "output_type": "display_data"
    }
   ],
   "source": [
    "sample(urne,1,replace=TRUE)"
   ]
  },
  {
   "cell_type": "code",
   "execution_count": 64,
   "id": "f8f0bdab-0e72-4def-aadd-ba62ba2381c9",
   "metadata": {
    "tags": []
   },
   "outputs": [
    {
     "data": {
      "text/html": [
       "<style>\n",
       ".list-inline {list-style: none; margin:0; padding: 0}\n",
       ".list-inline>li {display: inline-block}\n",
       ".list-inline>li:not(:last-child)::after {content: \"\\00b7\"; padding: 0 .5ex}\n",
       "</style>\n",
       "<ol class=list-inline><li>1</li><li>2</li><li>3</li><li>4</li><li>5</li><li>6</li><li>7</li><li>8</li><li>9</li><li>10</li></ol>\n"
      ],
      "text/latex": [
       "\\begin{enumerate*}\n",
       "\\item 1\n",
       "\\item 2\n",
       "\\item 3\n",
       "\\item 4\n",
       "\\item 5\n",
       "\\item 6\n",
       "\\item 7\n",
       "\\item 8\n",
       "\\item 9\n",
       "\\item 10\n",
       "\\end{enumerate*}\n"
      ],
      "text/markdown": [
       "1. 1\n",
       "2. 2\n",
       "3. 3\n",
       "4. 4\n",
       "5. 5\n",
       "6. 6\n",
       "7. 7\n",
       "8. 8\n",
       "9. 9\n",
       "10. 10\n",
       "\n",
       "\n"
      ],
      "text/plain": [
       " [1]  1  2  3  4  5  6  7  8  9 10"
      ]
     },
     "metadata": {},
     "output_type": "display_data"
    }
   ],
   "source": [
    "urne"
   ]
  },
  {
   "cell_type": "code",
   "execution_count": 65,
   "id": "bdd47959-2df7-4d41-982d-d18894931b66",
   "metadata": {
    "tags": []
   },
   "outputs": [
    {
     "data": {
      "text/html": [
       "<style>\n",
       ".list-inline {list-style: none; margin:0; padding: 0}\n",
       ".list-inline>li {display: inline-block}\n",
       ".list-inline>li:not(:last-child)::after {content: \"\\00b7\"; padding: 0 .5ex}\n",
       "</style>\n",
       "<ol class=list-inline><li>9</li><li>1</li><li>6</li><li>4</li><li>5</li><li>7</li><li>7</li><li>2</li></ol>\n"
      ],
      "text/latex": [
       "\\begin{enumerate*}\n",
       "\\item 9\n",
       "\\item 1\n",
       "\\item 6\n",
       "\\item 4\n",
       "\\item 5\n",
       "\\item 7\n",
       "\\item 7\n",
       "\\item 2\n",
       "\\end{enumerate*}\n"
      ],
      "text/markdown": [
       "1. 9\n",
       "2. 1\n",
       "3. 6\n",
       "4. 4\n",
       "5. 5\n",
       "6. 7\n",
       "7. 7\n",
       "8. 2\n",
       "\n",
       "\n"
      ],
      "text/plain": [
       "[1] 9 1 6 4 5 7 7 2"
      ]
     },
     "metadata": {},
     "output_type": "display_data"
    }
   ],
   "source": [
    "sample(urne,8,replace=TRUE)"
   ]
  },
  {
   "cell_type": "code",
   "execution_count": 66,
   "id": "48d18d05-50fa-44bd-9558-33d555367b6c",
   "metadata": {
    "tags": []
   },
   "outputs": [
    {
     "data": {
      "text/html": [
       "<style>\n",
       ".list-inline {list-style: none; margin:0; padding: 0}\n",
       ".list-inline>li {display: inline-block}\n",
       ".list-inline>li:not(:last-child)::after {content: \"\\00b7\"; padding: 0 .5ex}\n",
       "</style>\n",
       "<ol class=list-inline><li>3</li><li>1</li><li>5</li><li>7</li><li>5</li><li>10</li><li>5</li><li>8</li><li>9</li><li>8</li><li>2</li><li>4</li></ol>\n"
      ],
      "text/latex": [
       "\\begin{enumerate*}\n",
       "\\item 3\n",
       "\\item 1\n",
       "\\item 5\n",
       "\\item 7\n",
       "\\item 5\n",
       "\\item 10\n",
       "\\item 5\n",
       "\\item 8\n",
       "\\item 9\n",
       "\\item 8\n",
       "\\item 2\n",
       "\\item 4\n",
       "\\end{enumerate*}\n"
      ],
      "text/markdown": [
       "1. 3\n",
       "2. 1\n",
       "3. 5\n",
       "4. 7\n",
       "5. 5\n",
       "6. 10\n",
       "7. 5\n",
       "8. 8\n",
       "9. 9\n",
       "10. 8\n",
       "11. 2\n",
       "12. 4\n",
       "\n",
       "\n"
      ],
      "text/plain": [
       " [1]  3  1  5  7  5 10  5  8  9  8  2  4"
      ]
     },
     "metadata": {},
     "output_type": "display_data"
    }
   ],
   "source": [
    "sample(urne,12,replace=TRUE)"
   ]
  },
  {
   "cell_type": "code",
   "execution_count": 67,
   "id": "c7d5fcaf-e7c9-4600-a785-c18e555b1749",
   "metadata": {
    "tags": []
   },
   "outputs": [],
   "source": [
    "dé<-1:6"
   ]
  },
  {
   "cell_type": "code",
   "execution_count": 68,
   "id": "775f0be8-8050-41a8-ac24-2b8b160bc39a",
   "metadata": {
    "tags": []
   },
   "outputs": [
    {
     "data": {
      "text/html": [
       "<style>\n",
       ".list-inline {list-style: none; margin:0; padding: 0}\n",
       ".list-inline>li {display: inline-block}\n",
       ".list-inline>li:not(:last-child)::after {content: \"\\00b7\"; padding: 0 .5ex}\n",
       "</style>\n",
       "<ol class=list-inline><li>1</li><li>2</li><li>3</li><li>4</li><li>5</li><li>6</li></ol>\n"
      ],
      "text/latex": [
       "\\begin{enumerate*}\n",
       "\\item 1\n",
       "\\item 2\n",
       "\\item 3\n",
       "\\item 4\n",
       "\\item 5\n",
       "\\item 6\n",
       "\\end{enumerate*}\n"
      ],
      "text/markdown": [
       "1. 1\n",
       "2. 2\n",
       "3. 3\n",
       "4. 4\n",
       "5. 5\n",
       "6. 6\n",
       "\n",
       "\n"
      ],
      "text/plain": [
       "[1] 1 2 3 4 5 6"
      ]
     },
     "metadata": {},
     "output_type": "display_data"
    }
   ],
   "source": [
    "dé"
   ]
  },
  {
   "cell_type": "code",
   "execution_count": 69,
   "id": "ed777f4c-b633-4e0d-8875-9a70356af90a",
   "metadata": {
    "tags": []
   },
   "outputs": [
    {
     "data": {
      "text/html": [
       "1"
      ],
      "text/latex": [
       "1"
      ],
      "text/markdown": [
       "1"
      ],
      "text/plain": [
       "[1] 1"
      ]
     },
     "metadata": {},
     "output_type": "display_data"
    }
   ],
   "source": [
    "sample(dé,1)"
   ]
  },
  {
   "cell_type": "code",
   "execution_count": 70,
   "id": "1b7d6059-caf5-4c4e-a4ef-3d9cba3e9c1c",
   "metadata": {
    "tags": []
   },
   "outputs": [
    {
     "data": {
      "text/html": [
       "<style>\n",
       ".list-inline {list-style: none; margin:0; padding: 0}\n",
       ".list-inline>li {display: inline-block}\n",
       ".list-inline>li:not(:last-child)::after {content: \"\\00b7\"; padding: 0 .5ex}\n",
       "</style>\n",
       "<ol class=list-inline><li>1</li><li>2</li><li>3</li><li>4</li><li>5</li><li>6</li></ol>\n"
      ],
      "text/latex": [
       "\\begin{enumerate*}\n",
       "\\item 1\n",
       "\\item 2\n",
       "\\item 3\n",
       "\\item 4\n",
       "\\item 5\n",
       "\\item 6\n",
       "\\end{enumerate*}\n"
      ],
      "text/markdown": [
       "1. 1\n",
       "2. 2\n",
       "3. 3\n",
       "4. 4\n",
       "5. 5\n",
       "6. 6\n",
       "\n",
       "\n"
      ],
      "text/plain": [
       "[1] 1 2 3 4 5 6"
      ]
     },
     "metadata": {},
     "output_type": "display_data"
    }
   ],
   "source": [
    "dé"
   ]
  },
  {
   "cell_type": "code",
   "execution_count": 71,
   "id": "8ab2f85f-6dc7-48e9-84ef-f8f3216daef6",
   "metadata": {
    "tags": []
   },
   "outputs": [
    {
     "data": {
      "text/html": [
       "<style>\n",
       ".list-inline {list-style: none; margin:0; padding: 0}\n",
       ".list-inline>li {display: inline-block}\n",
       ".list-inline>li:not(:last-child)::after {content: \"\\00b7\"; padding: 0 .5ex}\n",
       "</style>\n",
       "<ol class=list-inline><li>3</li><li>6</li><li>6</li><li>4</li><li>1</li><li>5</li><li>5</li><li>5</li></ol>\n"
      ],
      "text/latex": [
       "\\begin{enumerate*}\n",
       "\\item 3\n",
       "\\item 6\n",
       "\\item 6\n",
       "\\item 4\n",
       "\\item 1\n",
       "\\item 5\n",
       "\\item 5\n",
       "\\item 5\n",
       "\\end{enumerate*}\n"
      ],
      "text/markdown": [
       "1. 3\n",
       "2. 6\n",
       "3. 6\n",
       "4. 4\n",
       "5. 1\n",
       "6. 5\n",
       "7. 5\n",
       "8. 5\n",
       "\n",
       "\n"
      ],
      "text/plain": [
       "[1] 3 6 6 4 1 5 5 5"
      ]
     },
     "metadata": {},
     "output_type": "display_data"
    }
   ],
   "source": [
    "sample(dé,8,replace=TRUE)"
   ]
  },
  {
   "cell_type": "code",
   "execution_count": 73,
   "id": "30dd3223-ad85-4cca-855b-d3368fd8b7b3",
   "metadata": {
    "tags": []
   },
   "outputs": [
    {
     "data": {
      "text/html": [
       "<style>\n",
       ".list-inline {list-style: none; margin:0; padding: 0}\n",
       ".list-inline>li {display: inline-block}\n",
       ".list-inline>li:not(:last-child)::after {content: \"\\00b7\"; padding: 0 .5ex}\n",
       "</style>\n",
       "<ol class=list-inline><li>1</li><li>2</li><li>3</li><li>4</li><li>5</li><li>6</li></ol>\n"
      ],
      "text/latex": [
       "\\begin{enumerate*}\n",
       "\\item 1\n",
       "\\item 2\n",
       "\\item 3\n",
       "\\item 4\n",
       "\\item 5\n",
       "\\item 6\n",
       "\\end{enumerate*}\n"
      ],
      "text/markdown": [
       "1. 1\n",
       "2. 2\n",
       "3. 3\n",
       "4. 4\n",
       "5. 5\n",
       "6. 6\n",
       "\n",
       "\n"
      ],
      "text/plain": [
       "[1] 1 2 3 4 5 6"
      ]
     },
     "metadata": {},
     "output_type": "display_data"
    }
   ],
   "source": [
    "dé"
   ]
  },
  {
   "cell_type": "code",
   "execution_count": 74,
   "id": "7a3f59a7-c730-46e9-a0d1-e771c2248bd1",
   "metadata": {
    "tags": []
   },
   "outputs": [],
   "source": [
    "pièce<-c(\"pile\",\"face\")"
   ]
  },
  {
   "cell_type": "code",
   "execution_count": 75,
   "id": "d9817288-6a8c-4166-acc4-d8fd347be960",
   "metadata": {
    "tags": []
   },
   "outputs": [
    {
     "data": {
      "text/html": [
       "<style>\n",
       ".list-inline {list-style: none; margin:0; padding: 0}\n",
       ".list-inline>li {display: inline-block}\n",
       ".list-inline>li:not(:last-child)::after {content: \"\\00b7\"; padding: 0 .5ex}\n",
       "</style>\n",
       "<ol class=list-inline><li>'pile'</li><li>'face'</li></ol>\n"
      ],
      "text/latex": [
       "\\begin{enumerate*}\n",
       "\\item 'pile'\n",
       "\\item 'face'\n",
       "\\end{enumerate*}\n"
      ],
      "text/markdown": [
       "1. 'pile'\n",
       "2. 'face'\n",
       "\n",
       "\n"
      ],
      "text/plain": [
       "[1] \"pile\" \"face\""
      ]
     },
     "metadata": {},
     "output_type": "display_data"
    }
   ],
   "source": [
    "pièce"
   ]
  },
  {
   "cell_type": "code",
   "execution_count": 76,
   "id": "bc8fe457-44c5-4438-8d14-9db01b783cff",
   "metadata": {
    "tags": []
   },
   "outputs": [
    {
     "data": {
      "text/html": [
       "'face'"
      ],
      "text/latex": [
       "'face'"
      ],
      "text/markdown": [
       "'face'"
      ],
      "text/plain": [
       "[1] \"face\""
      ]
     },
     "metadata": {},
     "output_type": "display_data"
    }
   ],
   "source": [
    "sample(pièce,1)"
   ]
  },
  {
   "cell_type": "code",
   "execution_count": 77,
   "id": "dddfcd92-4fdb-4c2e-8cb8-d10fd7b27ea5",
   "metadata": {
    "tags": []
   },
   "outputs": [
    {
     "data": {
      "text/html": [
       "<style>\n",
       ".list-inline {list-style: none; margin:0; padding: 0}\n",
       ".list-inline>li {display: inline-block}\n",
       ".list-inline>li:not(:last-child)::after {content: \"\\00b7\"; padding: 0 .5ex}\n",
       "</style>\n",
       "<ol class=list-inline><li>'pile'</li><li>'face'</li><li>'pile'</li><li>'face'</li></ol>\n"
      ],
      "text/latex": [
       "\\begin{enumerate*}\n",
       "\\item 'pile'\n",
       "\\item 'face'\n",
       "\\item 'pile'\n",
       "\\item 'face'\n",
       "\\end{enumerate*}\n"
      ],
      "text/markdown": [
       "1. 'pile'\n",
       "2. 'face'\n",
       "3. 'pile'\n",
       "4. 'face'\n",
       "\n",
       "\n"
      ],
      "text/plain": [
       "[1] \"pile\" \"face\" \"pile\" \"face\""
      ]
     },
     "metadata": {},
     "output_type": "display_data"
    }
   ],
   "source": [
    "sample(pièce,4,replace=TRUE)"
   ]
  },
  {
   "cell_type": "code",
   "execution_count": 78,
   "id": "a291fd13-15f4-4ea6-9605-88d2f4a4f6e2",
   "metadata": {
    "tags": []
   },
   "outputs": [],
   "source": [
    "set.seed(1)"
   ]
  },
  {
   "cell_type": "code",
   "execution_count": 79,
   "id": "74346fd5-5d9e-4b27-b8d3-ac7879a90133",
   "metadata": {
    "tags": []
   },
   "outputs": [],
   "source": [
    "dé<-1:6"
   ]
  },
  {
   "cell_type": "code",
   "execution_count": 80,
   "id": "511fb8b2-a85f-465a-9f04-d4187904ef90",
   "metadata": {
    "tags": []
   },
   "outputs": [],
   "source": [
    "obs<-table(sample(dé,600000,replace=TRUE))"
   ]
  },
  {
   "cell_type": "code",
   "execution_count": 81,
   "id": "ecd27a72-11b1-41c4-828e-48c5df62a5ad",
   "metadata": {
    "tags": []
   },
   "outputs": [
    {
     "data": {
      "image/png": "[encoded data removed]",
      "text/plain": [
       "Plot with title “Résultat de l’expérience”"
      ]
     },
     "metadata": {
      "image/png": {
       "height": 420,
       "width": 420
      }
     },
     "output_type": "display_data"
    }
   ],
   "source": [
    "barplot(obs, main = \"Résultat de l’expérience\", xlab = \"Face du dé\",\n",
    "           ylab =\"Nombre de tirages obtenus\")"
   ]
  },
  {
   "cell_type": "code",
   "execution_count": null,
   "id": "ed380a4f-2efa-490e-9d2c-6a1aaeafdbb2",
   "metadata": {},
   "outputs": [],
   "source": []
  }
 ],
 "metadata": {
  "kernelspec": {
   "display_name": "R",
   "language": "R",
   "name": "ir"
  },
  "language_info": {
   "codemirror_mode": "r",
   "file_extension": ".r",
   "mimetype": "text/x-r-source",
   "name": "R",
   "pygments_lexer": "r",
   "version": "4.1.3"
  }
 },
 "nbformat": 4,
 "nbformat_minor": 5
}
